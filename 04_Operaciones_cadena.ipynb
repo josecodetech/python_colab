{
  "nbformat": 4,
  "nbformat_minor": 0,
  "metadata": {
    "colab": {
      "provenance": []
    },
    "kernelspec": {
      "name": "python3",
      "display_name": "Python 3"
    },
    "language_info": {
      "name": "python"
    }
  },
  "cells": [
    {
      "cell_type": "markdown",
      "source": [
        "#Operaciones cadenas"
      ],
      "metadata": {
        "id": "BQmnkk9lWEiM"
      }
    },
    {
      "cell_type": "code",
      "execution_count": null,
      "metadata": {
        "id": "rJPVk944WA92"
      },
      "outputs": [],
      "source": [
        "# concatenacion + repeticion *"
      ]
    },
    {
      "cell_type": "code",
      "source": [
        "# Operaciones con cadenas\n",
        "saludo = \"Hola\"\n",
        "nombre = \"Jose\""
      ],
      "metadata": {
        "id": "1idKoc0qWGc7"
      },
      "execution_count": 1,
      "outputs": []
    },
    {
      "cell_type": "code",
      "source": [
        "# Concatenacion\n",
        "mensaje = saludo + \" \" + nombre\n",
        "print(\"Mensaje : \", mensaje)"
      ],
      "metadata": {
        "colab": {
          "base_uri": "https://localhost:8080/"
        },
        "id": "ivQu7P25WZZ8",
        "outputId": "81c0792d-2304-4ce5-df94-f35559c493a3"
      },
      "execution_count": 4,
      "outputs": [
        {
          "output_type": "stream",
          "name": "stdout",
          "text": [
            "Mensaje :  Hola Jose\n"
          ]
        }
      ]
    },
    {
      "cell_type": "code",
      "source": [
        "# Repeticion\n",
        "repetir = saludo * 4\n",
        "print(\"Repeticion: \", repetir)"
      ],
      "metadata": {
        "colab": {
          "base_uri": "https://localhost:8080/"
        },
        "id": "jFgY4IWQWtnD",
        "outputId": "771acbb6-a78c-4975-cefa-ed63530a3c2a"
      },
      "execution_count": 5,
      "outputs": [
        {
          "output_type": "stream",
          "name": "stdout",
          "text": [
            "Repeticion:  HolaHolaHolaHola\n"
          ]
        }
      ]
    },
    {
      "cell_type": "code",
      "source": [
        "# Entrada de datos\n",
        "nombre = input(\"Cual es tu nombre? \")\n",
        "edad = input(\"Cual es tu edad? \")\n"
      ],
      "metadata": {
        "colab": {
          "base_uri": "https://localhost:8080/"
        },
        "id": "Sj0YhiONXDXo",
        "outputId": "3c7161d6-955f-476e-8999-c67fe7d83a59"
      },
      "execution_count": 6,
      "outputs": [
        {
          "name": "stdout",
          "output_type": "stream",
          "text": [
            "Cual es tu nombre? Jose\n",
            "Cual es tu edad? 52\n"
          ]
        }
      ]
    },
    {
      "cell_type": "code",
      "source": [
        "# Salida de datos\n",
        "print(\"Hola, \"+nombre+\". Tienes \"+edad+\" años.\")"
      ],
      "metadata": {
        "colab": {
          "base_uri": "https://localhost:8080/"
        },
        "id": "bfugbkRHXlLk",
        "outputId": "7d24db1c-58ff-41b9-e352-773a85045d0e"
      },
      "execution_count": 7,
      "outputs": [
        {
          "output_type": "stream",
          "name": "stdout",
          "text": [
            "Hola, Jose. Tienes 52 años.\n"
          ]
        }
      ]
    },
    {
      "cell_type": "code",
      "source": [],
      "metadata": {
        "id": "VrJmrVK3X2No"
      },
      "execution_count": null,
      "outputs": []
    }
  ]
}