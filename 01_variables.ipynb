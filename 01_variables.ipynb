{
  "nbformat": 4,
  "nbformat_minor": 0,
  "metadata": {
    "colab": {
      "provenance": []
    },
    "kernelspec": {
      "name": "python3",
      "display_name": "Python 3"
    },
    "language_info": {
      "name": "python"
    }
  },
  "cells": [
    {
      "cell_type": "markdown",
      "source": [
        "# Variables"
      ],
      "metadata": {
        "id": "dRkabBMSNolL"
      }
    },
    {
      "cell_type": "code",
      "source": [
        "# comentario no se ejecuta\n",
        "# alt+enter(ejecuta y crea nueva celda)\n",
        "# may+enter (ejecuta)"
      ],
      "metadata": {
        "id": "8SYjKgcfNz0n"
      },
      "execution_count": 2,
      "outputs": []
    },
    {
      "cell_type": "code",
      "execution_count": 3,
      "metadata": {
        "id": "LcJo20gDNC7T"
      },
      "outputs": [],
      "source": [
        "# Declaracion de variables\n",
        "nombre = \"Jose\"\n",
        "edad = 52\n",
        "altura = 1.70\n"
      ]
    },
    {
      "cell_type": "code",
      "source": [
        "type(altura)"
      ],
      "metadata": {
        "colab": {
          "base_uri": "https://localhost:8080/"
        },
        "id": "kS-DIc6jO0JN",
        "outputId": "94321540-be6c-4a69-dace-35c92ece303d"
      },
      "execution_count": 6,
      "outputs": [
        {
          "output_type": "execute_result",
          "data": {
            "text/plain": [
              "float"
            ]
          },
          "metadata": {},
          "execution_count": 6
        }
      ]
    },
    {
      "cell_type": "code",
      "source": [
        "print(\"Nombre: \",nombre)\n",
        "print(\"Edad: \", edad)\n",
        "print(\"Altura: \",altura)"
      ],
      "metadata": {
        "colab": {
          "base_uri": "https://localhost:8080/"
        },
        "id": "hAC2wCp2PCJo",
        "outputId": "595f46b6-c85e-431d-f6bd-d7a40b77fe62"
      },
      "execution_count": 7,
      "outputs": [
        {
          "output_type": "stream",
          "name": "stdout",
          "text": [
            "Nombre:  Jose\n",
            "Edad:  52\n",
            "Altura:  1.7\n"
          ]
        }
      ]
    },
    {
      "cell_type": "code",
      "source": [
        "# Operaciones basicas\n",
        "a = 10\n",
        "b = 2"
      ],
      "metadata": {
        "id": "4o76Q_LLPWm1"
      },
      "execution_count": 20,
      "outputs": []
    },
    {
      "cell_type": "code",
      "source": [
        "# Suma\n",
        "suma = a + b\n",
        "print(\"Suma: \",suma)"
      ],
      "metadata": {
        "colab": {
          "base_uri": "https://localhost:8080/"
        },
        "id": "yKgtaYudPrlz",
        "outputId": "84bb288c-5c0d-4682-b391-fadb7535d36d"
      },
      "execution_count": 12,
      "outputs": [
        {
          "output_type": "stream",
          "name": "stdout",
          "text": [
            "Suma:  15\n"
          ]
        }
      ]
    },
    {
      "cell_type": "code",
      "source": [
        "# Resta\n",
        "resta = a - b\n",
        "print(\"Resta: \", resta)"
      ],
      "metadata": {
        "colab": {
          "base_uri": "https://localhost:8080/"
        },
        "id": "W6hLO5GVP-vj",
        "outputId": "7f85de5c-7a01-4c36-c2da-68fe598dd928"
      },
      "execution_count": 13,
      "outputs": [
        {
          "output_type": "stream",
          "name": "stdout",
          "text": [
            "Resta:  5\n"
          ]
        }
      ]
    },
    {
      "cell_type": "code",
      "source": [
        "# Multiplicacion\n",
        "multiplicacion = a * b\n",
        "print(\"Multiplicacion: \", multiplicacion)"
      ],
      "metadata": {
        "colab": {
          "base_uri": "https://localhost:8080/"
        },
        "id": "cuCI9kaJQK-h",
        "outputId": "5bf47dab-b54f-402d-87e3-8ab43c88dc43"
      },
      "execution_count": 14,
      "outputs": [
        {
          "output_type": "stream",
          "name": "stdout",
          "text": [
            "Multiplicacion:  50\n"
          ]
        }
      ]
    },
    {
      "cell_type": "code",
      "source": [
        "# Division\n",
        "division = a / b\n",
        "print(\"Division: \", division)"
      ],
      "metadata": {
        "colab": {
          "base_uri": "https://localhost:8080/"
        },
        "id": "005xRFEHQVzl",
        "outputId": "aede891d-088c-4c6a-f04b-5e369c1c1cd9"
      },
      "execution_count": 21,
      "outputs": [
        {
          "output_type": "stream",
          "name": "stdout",
          "text": [
            "Division:  5.0\n"
          ]
        }
      ]
    },
    {
      "cell_type": "code",
      "source": [
        "type(division)"
      ],
      "metadata": {
        "colab": {
          "base_uri": "https://localhost:8080/"
        },
        "id": "oHfdlbtDQd2u",
        "outputId": "1455247e-27fc-4883-912a-4f46632d5157"
      },
      "execution_count": 16,
      "outputs": [
        {
          "output_type": "execute_result",
          "data": {
            "text/plain": [
              "float"
            ]
          },
          "metadata": {},
          "execution_count": 16
        }
      ]
    },
    {
      "cell_type": "code",
      "source": [
        "type(a)"
      ],
      "metadata": {
        "colab": {
          "base_uri": "https://localhost:8080/"
        },
        "id": "C5sGbxOZQiKp",
        "outputId": "ac4be2a7-655c-4fb9-f79e-6ec68a4d6813"
      },
      "execution_count": 17,
      "outputs": [
        {
          "output_type": "execute_result",
          "data": {
            "text/plain": [
              "int"
            ]
          },
          "metadata": {},
          "execution_count": 17
        }
      ]
    },
    {
      "cell_type": "code",
      "source": [],
      "metadata": {
        "id": "D_uL5RE_QkBE"
      },
      "execution_count": null,
      "outputs": []
    }
  ]
}