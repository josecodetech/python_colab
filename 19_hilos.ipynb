{
  "nbformat": 4,
  "nbformat_minor": 0,
  "metadata": {
    "colab": {
      "provenance": []
    },
    "kernelspec": {
      "name": "python3",
      "display_name": "Python 3"
    },
    "language_info": {
      "name": "python"
    }
  },
  "cells": [
    {
      "cell_type": "markdown",
      "source": [
        "#Programacion concurrente"
      ],
      "metadata": {
        "id": "TFVXDJVEQXv7"
      }
    },
    {
      "cell_type": "code",
      "execution_count": 1,
      "metadata": {
        "id": "anboKtELQU4S"
      },
      "outputs": [],
      "source": [
        "import threading\n",
        "import time"
      ]
    },
    {
      "cell_type": "code",
      "source": [
        "# funcion a ejecutar en hilo\n",
        "def tarea():\n",
        "  for i in range(5):\n",
        "    print(f\"Tarea en ejecucion: {i}\")\n",
        "    time.sleep(1)"
      ],
      "metadata": {
        "id": "3imr7r-VQarg"
      },
      "execution_count": 2,
      "outputs": []
    },
    {
      "cell_type": "code",
      "source": [
        "# creamos hilo\n",
        "hilo = threading.Thread(target=tarea)"
      ],
      "metadata": {
        "id": "q-Bf6p0bRKMy"
      },
      "execution_count": 8,
      "outputs": []
    },
    {
      "cell_type": "code",
      "source": [
        "# inicia hilo\n",
        "hilo.start()"
      ],
      "metadata": {
        "colab": {
          "base_uri": "https://localhost:8080/"
        },
        "id": "JuT9V-8vRQ52",
        "outputId": "4ae028dd-c00d-4064-b9ef-46f2348c0fff"
      },
      "execution_count": 9,
      "outputs": [
        {
          "output_type": "stream",
          "name": "stdout",
          "text": [
            "Tarea en ejecucion: 0\n"
          ]
        }
      ]
    },
    {
      "cell_type": "code",
      "source": [
        "# esperar terminacion hilo\n",
        "hilo.join()"
      ],
      "metadata": {
        "colab": {
          "base_uri": "https://localhost:8080/"
        },
        "id": "emraeYIpRUDo",
        "outputId": "1673f21c-dd45-4956-9f8b-482f8a6bd595"
      },
      "execution_count": 10,
      "outputs": [
        {
          "output_type": "stream",
          "name": "stdout",
          "text": [
            "Tarea en ejecucion: 3\n",
            "Tarea en ejecucion: 4\n"
          ]
        }
      ]
    },
    {
      "cell_type": "code",
      "source": [
        "print(\"Hilo terminado\")"
      ],
      "metadata": {
        "colab": {
          "base_uri": "https://localhost:8080/"
        },
        "id": "uBQOUUWqReou",
        "outputId": "7172697e-0be7-4f3b-b3db-1669cb47ba0c"
      },
      "execution_count": 11,
      "outputs": [
        {
          "output_type": "stream",
          "name": "stdout",
          "text": [
            "Hilo terminado\n"
          ]
        }
      ]
    },
    {
      "cell_type": "markdown",
      "source": [
        "# Hilo con argumentos"
      ],
      "metadata": {
        "id": "KKt3cry3Rw_r"
      }
    },
    {
      "cell_type": "code",
      "source": [
        "import threading\n",
        "import time"
      ],
      "metadata": {
        "id": "cmMKrh4uRgmi"
      },
      "execution_count": 12,
      "outputs": []
    },
    {
      "cell_type": "code",
      "source": [
        "def tarea(nombre, duracion):\n",
        "  for i in range(5):\n",
        "    print(f\"Tarea {nombre} en ejecucion: {i}\\n\")\n",
        "    time.sleep(duracion)"
      ],
      "metadata": {
        "id": "wM-8aK7CRzH0"
      },
      "execution_count": 15,
      "outputs": []
    },
    {
      "cell_type": "code",
      "source": [
        "# Creamos e iniciamos hilos con argumentos\n",
        "hilo1 = threading.Thread(target=tarea, args=(\"A\", 1))\n",
        "hilo2 = threading.Thread(target=tarea, args=(\"B\", 2))\n",
        "# inicia hilos\n",
        "hilo1.start()\n",
        "hilo2.start()\n",
        "# termina hilos\n",
        "hilo1.join()\n",
        "hilo2.join()\n",
        "print(\"Hilos terminados\")"
      ],
      "metadata": {
        "colab": {
          "base_uri": "https://localhost:8080/"
        },
        "id": "r_tTdcCgSInO",
        "outputId": "2987cfe3-4ec9-4f30-ffdf-498867293849"
      },
      "execution_count": 16,
      "outputs": [
        {
          "output_type": "stream",
          "name": "stdout",
          "text": [
            "Tarea A en ejecucion: 0\n",
            "Tarea B en ejecucion: 0\n",
            "\n",
            "\n",
            "Tarea A en ejecucion: 1\n",
            "\n",
            "Tarea B en ejecucion: 1\n",
            "\n",
            "Tarea A en ejecucion: 2\n",
            "\n",
            "Tarea A en ejecucion: 3\n",
            "\n",
            "Tarea B en ejecucion: 2\n",
            "\n",
            "Tarea A en ejecucion: 4\n",
            "\n",
            "Tarea B en ejecucion: 3\n",
            "\n",
            "Tarea B en ejecucion: 4\n",
            "\n",
            "Hilos terminados\n"
          ]
        }
      ]
    },
    {
      "cell_type": "markdown",
      "source": [
        "#Sincronizacion de hilos"
      ],
      "metadata": {
        "id": "OPbIJaWHS5LR"
      }
    },
    {
      "cell_type": "code",
      "source": [
        "import threading\n",
        "import time"
      ],
      "metadata": {
        "id": "gOe2OQnUSfgz"
      },
      "execution_count": 17,
      "outputs": []
    },
    {
      "cell_type": "code",
      "source": [
        "# creamos bloqueo\n",
        "bloqueo = threading.Lock()\n",
        "# funcion\n",
        "def tarea(nombre):\n",
        "  with bloqueo:\n",
        "    for i in range(5):\n",
        "      print(f\"Tarea {nombre} en ejecucion: {i}\")\n",
        "      time.sleep(1)\n",
        "# creamos hilos\n",
        "hilo1 = threading.Thread(target=tarea, args=(\"A\",))\n",
        "hilo2 = threading.Thread(target=tarea, args=(\"B\",))\n",
        "# iniciamos hilos\n",
        "hilo1.start()\n",
        "hilo2.start()\n",
        "# terminamos hilos\n",
        "hilo1.join()\n",
        "hilo2.join()\n",
        "print(\"Hilos terminados\")"
      ],
      "metadata": {
        "colab": {
          "base_uri": "https://localhost:8080/"
        },
        "id": "Yb3D_QfuTAVa",
        "outputId": "824194a9-a957-4489-aaf5-18c91e34cdfb"
      },
      "execution_count": 18,
      "outputs": [
        {
          "output_type": "stream",
          "name": "stdout",
          "text": [
            "Tarea A en ejecucion: 0\n",
            "Tarea A en ejecucion: 1\n",
            "Tarea A en ejecucion: 2\n",
            "Tarea A en ejecucion: 3\n",
            "Tarea A en ejecucion: 4\n",
            "Tarea B en ejecucion: 0\n",
            "Tarea B en ejecucion: 1\n",
            "Tarea B en ejecucion: 2\n",
            "Tarea B en ejecucion: 3\n",
            "Tarea B en ejecucion: 4\n",
            "Hilos terminados\n"
          ]
        }
      ]
    },
    {
      "cell_type": "markdown",
      "source": [
        "#Ejercicio practico"
      ],
      "metadata": {
        "id": "ofaW4efHVGex"
      }
    },
    {
      "cell_type": "code",
      "source": [
        "import threading\n",
        "import time"
      ],
      "metadata": {
        "id": "KWafwflETaau"
      },
      "execution_count": 19,
      "outputs": []
    },
    {
      "cell_type": "code",
      "source": [
        "bloqueo = threading.Lock()\n",
        "def imprimir_numeros(nombre):\n",
        "  with bloqueo:\n",
        "    for i in range(1, 11):\n",
        "      print(f\"{nombre}: {i}\")\n",
        "      time.sleep(1)\n",
        "hilo1 = threading.Thread(target=imprimir_numeros, args=(\"Hilo 1\",))\n",
        "hilo2 = threading.Thread(target=imprimir_numeros, args=(\"Hilo 2\",))\n",
        "hilo3 = threading.Thread(target=imprimir_numeros, args=(\"Hilo 3\",))\n",
        "hilo1.start()\n",
        "hilo2.start()\n",
        "hilo3.start()\n",
        "hilo1.join()\n",
        "hilo2.join()\n",
        "hilo3.join()\n",
        "print(\"Todos los hilos terminados\")"
      ],
      "metadata": {
        "colab": {
          "base_uri": "https://localhost:8080/"
        },
        "id": "Si9Z2N7wVMAB",
        "outputId": "64413ca4-0948-445c-ef1f-89de7d814ac3"
      },
      "execution_count": 23,
      "outputs": [
        {
          "output_type": "stream",
          "name": "stdout",
          "text": [
            "Hilo 1: 1\n",
            "Hilo 1: 2\n",
            "Hilo 1: 3\n",
            "Hilo 1: 4\n",
            "Hilo 1: 5\n",
            "Hilo 1: 6\n",
            "Hilo 1: 7\n",
            "Hilo 1: 8\n",
            "Hilo 1: 9\n",
            "Hilo 1: 10\n",
            "Hilo 2: 1\n",
            "Hilo 2: 2\n",
            "Hilo 2: 3\n",
            "Hilo 2: 4\n",
            "Hilo 2: 5\n",
            "Hilo 2: 6\n",
            "Hilo 2: 7\n",
            "Hilo 2: 8\n",
            "Hilo 2: 9\n",
            "Hilo 2: 10\n",
            "Hilo 3: 1\n",
            "Hilo 3: 2\n",
            "Hilo 3: 3\n",
            "Hilo 3: 4\n",
            "Hilo 3: 5\n",
            "Hilo 3: 6\n",
            "Hilo 3: 7\n",
            "Hilo 3: 8\n",
            "Hilo 3: 9\n",
            "Hilo 3: 10\n",
            "Todos los hilos terminados\n"
          ]
        }
      ]
    },
    {
      "cell_type": "code",
      "source": [],
      "metadata": {
        "id": "6wJiAjHKVvP4"
      },
      "execution_count": null,
      "outputs": []
    }
  ]
}