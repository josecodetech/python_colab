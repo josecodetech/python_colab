{
  "nbformat": 4,
  "nbformat_minor": 0,
  "metadata": {
    "colab": {
      "provenance": []
    },
    "kernelspec": {
      "name": "python3",
      "display_name": "Python 3"
    },
    "language_info": {
      "name": "python"
    }
  },
  "cells": [
    {
      "cell_type": "markdown",
      "source": [
        "#Funciones"
      ],
      "metadata": {
        "id": "twS3QOWCnkjo"
      }
    },
    {
      "cell_type": "code",
      "execution_count": 1,
      "metadata": {
        "id": "DAEKurWiniIZ"
      },
      "outputs": [],
      "source": [
        "# crear funcion\n",
        "def saludar():\n",
        "  print(\"Hola desde la funcion\")"
      ]
    },
    {
      "cell_type": "code",
      "source": [
        "# llamar funcion\n",
        "saludar()\n"
      ],
      "metadata": {
        "colab": {
          "base_uri": "https://localhost:8080/"
        },
        "id": "7icmEGdknmBn",
        "outputId": "042a4ad5-c09f-4f7a-84dd-0789ae3b8f78"
      },
      "execution_count": 4,
      "outputs": [
        {
          "output_type": "stream",
          "name": "stdout",
          "text": [
            "Hola desde la funcion\n"
          ]
        }
      ]
    },
    {
      "cell_type": "code",
      "source": [
        "# Parametros\n",
        "def saludar(nombre):\n",
        "  print(f\"Hola {nombre}\")\n"
      ],
      "metadata": {
        "id": "SZdabfJ1n_cG"
      },
      "execution_count": 10,
      "outputs": []
    },
    {
      "cell_type": "code",
      "source": [
        "saludar(\"Jose\")"
      ],
      "metadata": {
        "colab": {
          "base_uri": "https://localhost:8080/"
        },
        "id": "4xpObif2o3_I",
        "outputId": "404e0905-8814-4750-aee4-e42fdec07051"
      },
      "execution_count": 9,
      "outputs": [
        {
          "output_type": "stream",
          "name": "stdout",
          "text": [
            "Hola Jose\n",
            "Hola sin valor Jose\n"
          ]
        }
      ]
    },
    {
      "cell_type": "code",
      "source": [
        "# Retorna valor\n",
        "def sumar(num1, num2):\n",
        "  return num1 + num2"
      ],
      "metadata": {
        "id": "USyxkdHko5eb"
      },
      "execution_count": 11,
      "outputs": []
    },
    {
      "cell_type": "code",
      "source": [
        "resultado = sumar(10, 5)\n",
        "# print(\"Suma:\", resultado)\n",
        "print(f\"Suma: {resultado}\")"
      ],
      "metadata": {
        "colab": {
          "base_uri": "https://localhost:8080/"
        },
        "id": "qafNCpUOpiyj",
        "outputId": "a9c5e956-3969-45ef-e721-1970da5eb323"
      },
      "execution_count": 13,
      "outputs": [
        {
          "output_type": "stream",
          "name": "stdout",
          "text": [
            "Suma: 15\n",
            "Suma: 15\n"
          ]
        }
      ]
    },
    {
      "cell_type": "code",
      "source": [
        "# Funcion lambda o anonima\n",
        "sumar = lambda num1, num2: num1 + num2\n"
      ],
      "metadata": {
        "id": "q1kD6Oe2ptL_"
      },
      "execution_count": 15,
      "outputs": []
    },
    {
      "cell_type": "code",
      "source": [
        "# Llamada a funcion anonima\n",
        "resultado = sumar(21,34)\n",
        "print(f\"Suma: {resultado}\")"
      ],
      "metadata": {
        "colab": {
          "base_uri": "https://localhost:8080/"
        },
        "id": "2F7lji51qcIO",
        "outputId": "050bd095-6957-4385-de8e-d08ab0a68d15"
      },
      "execution_count": 16,
      "outputs": [
        {
          "output_type": "stream",
          "name": "stdout",
          "text": [
            "Suma: 55\n"
          ]
        }
      ]
    },
    {
      "cell_type": "markdown",
      "source": [
        "#Ejercicio practico"
      ],
      "metadata": {
        "id": "Gr2CGgG4rSM2"
      }
    },
    {
      "cell_type": "code",
      "source": [
        "def multiplicar(a,b):\n",
        "  return a * b"
      ],
      "metadata": {
        "id": "ahy8C_RkqkGo"
      },
      "execution_count": 18,
      "outputs": []
    },
    {
      "cell_type": "code",
      "source": [
        "resultado = multiplicar(3,5)\n",
        "print(f\"Multiplicacion: {resultado}\")"
      ],
      "metadata": {
        "colab": {
          "base_uri": "https://localhost:8080/"
        },
        "id": "v9E-QyNJrhgd",
        "outputId": "b1c010ac-e1a8-431f-895b-dd79bb46a5e3"
      },
      "execution_count": 19,
      "outputs": [
        {
          "output_type": "stream",
          "name": "stdout",
          "text": [
            "Multiplicacion: 15\n"
          ]
        }
      ]
    },
    {
      "cell_type": "code",
      "source": [
        "restar = lambda a,b:a-b"
      ],
      "metadata": {
        "id": "LKozR0RdrlHq"
      },
      "execution_count": 20,
      "outputs": []
    },
    {
      "cell_type": "code",
      "source": [
        "resultado = restar(10,5)\n",
        "print(f\"Resta: {resultado}\")"
      ],
      "metadata": {
        "colab": {
          "base_uri": "https://localhost:8080/"
        },
        "id": "cjc851Dnrvfz",
        "outputId": "e1eaeb9b-2dbd-49b7-cb32-40ac554d3dd0"
      },
      "execution_count": 21,
      "outputs": [
        {
          "output_type": "stream",
          "name": "stdout",
          "text": [
            "Resta: 5\n"
          ]
        }
      ]
    },
    {
      "cell_type": "code",
      "source": [],
      "metadata": {
        "id": "u0C03VDhrygw"
      },
      "execution_count": null,
      "outputs": []
    }
  ]
}