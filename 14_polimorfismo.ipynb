{
  "nbformat": 4,
  "nbformat_minor": 0,
  "metadata": {
    "colab": {
      "provenance": []
    },
    "kernelspec": {
      "name": "python3",
      "display_name": "Python 3"
    },
    "language_info": {
      "name": "python"
    }
  },
  "cells": [
    {
      "cell_type": "markdown",
      "source": [
        "#Polimorfismo(POO)"
      ],
      "metadata": {
        "id": "kQmbJlZrj-qQ"
      }
    },
    {
      "cell_type": "code",
      "execution_count": 2,
      "metadata": {
        "id": "Bg3lSDZwj7g1"
      },
      "outputs": [],
      "source": [
        "# Sobreescritura\n",
        "# Clase padre o base\n",
        "class Animal:\n",
        "  def __init__(self, nombre):\n",
        "    self.nombre = nombre\n",
        "  def mover(self):\n",
        "    print(self.nombre + \" se está moviendo\")\n"
      ]
    },
    {
      "cell_type": "code",
      "source": [
        "# clase hija o derivada\n",
        "class Perro(Animal):\n",
        "  def mover(self):\n",
        "    print(\"El perro se está moviendo\")"
      ],
      "metadata": {
        "id": "xBZ6lUOSkCrx"
      },
      "execution_count": 3,
      "outputs": []
    },
    {
      "cell_type": "code",
      "source": [
        "# clase hija o derivada\n",
        "class Gato(Animal):\n",
        "  def mover(self):\n",
        "    print(\"El gato se está moviendo\")"
      ],
      "metadata": {
        "id": "7A5o9FGjk7P-"
      },
      "execution_count": 4,
      "outputs": []
    },
    {
      "cell_type": "code",
      "source": [
        "# creamos objetos de las clases hijas\n",
        "perro1 = Perro(\"Firulais\")\n",
        "gato1 = Gato(\"Garfield\")"
      ],
      "metadata": {
        "id": "KOzGm6h8lGft"
      },
      "execution_count": 5,
      "outputs": []
    },
    {
      "cell_type": "code",
      "source": [
        "# llamamos a sus metodos\n",
        "perro1.mover()\n",
        "gato1.mover()"
      ],
      "metadata": {
        "colab": {
          "base_uri": "https://localhost:8080/"
        },
        "id": "myG41MGplV9O",
        "outputId": "ae0ed854-464e-463e-8419-9eea7f11c84b"
      },
      "execution_count": 6,
      "outputs": [
        {
          "output_type": "stream",
          "name": "stdout",
          "text": [
            "El perro se está moviendo\n",
            "El gato se está moviendo\n"
          ]
        }
      ]
    },
    {
      "cell_type": "markdown",
      "source": [
        "#Polimorfismo"
      ],
      "metadata": {
        "id": "13_3_u1HmE8Q"
      }
    },
    {
      "cell_type": "code",
      "source": [
        "# Clase base\n",
        "class Animal:\n",
        "  def __init__(self, nombre):\n",
        "    self.nombre = nombre\n",
        "  def hablar(self):\n",
        "    pass"
      ],
      "metadata": {
        "id": "fwW6GtxRla0a"
      },
      "execution_count": 7,
      "outputs": []
    },
    {
      "cell_type": "code",
      "source": [
        "# Clase derivada\n",
        "class Perro(Animal):\n",
        "  def hablar(self):\n",
        "    print(self.nombre + \" dice Guau!\")"
      ],
      "metadata": {
        "id": "5xlE5W_BmGvm"
      },
      "execution_count": 8,
      "outputs": []
    },
    {
      "cell_type": "code",
      "source": [
        "# Clase derivada\n",
        "class Gato(Animal):\n",
        "  def hablar(self):\n",
        "    print(self.nombre + \" dice Miau!\")"
      ],
      "metadata": {
        "id": "mWuTqBO-mjG7"
      },
      "execution_count": 9,
      "outputs": []
    },
    {
      "cell_type": "code",
      "source": [
        "# Creamos funcion que acepte objeto de tipo Animal\n",
        "def hacer_hablar(animal):\n",
        "  animal.hablar()"
      ],
      "metadata": {
        "id": "hwbNtkkMmy5J"
      },
      "execution_count": 10,
      "outputs": []
    },
    {
      "cell_type": "code",
      "source": [
        "# Creamos objetos\n",
        "perro1 = Perro(\"Firulais\")\n",
        "gato1 = Gato(\"Garfield\")"
      ],
      "metadata": {
        "id": "erjV-Xi9m8Hu"
      },
      "execution_count": 11,
      "outputs": []
    },
    {
      "cell_type": "code",
      "source": [
        "hacer_hablar(perro1)\n",
        "hacer_hablar(gato1)"
      ],
      "metadata": {
        "colab": {
          "base_uri": "https://localhost:8080/"
        },
        "id": "Kf2W0YqrnF1d",
        "outputId": "97f17047-d49e-4901-cbee-a9c33f32f563"
      },
      "execution_count": 12,
      "outputs": [
        {
          "output_type": "stream",
          "name": "stdout",
          "text": [
            "Firulais dice Guau!\n",
            "Garfield dice Miau!\n"
          ]
        }
      ]
    },
    {
      "cell_type": "code",
      "source": [
        "perro1.hablar()"
      ],
      "metadata": {
        "colab": {
          "base_uri": "https://localhost:8080/"
        },
        "id": "cVSSdhcjnM0I",
        "outputId": "dc94a064-f56c-4cce-fe11-44b1f1387373"
      },
      "execution_count": 13,
      "outputs": [
        {
          "output_type": "stream",
          "name": "stdout",
          "text": [
            "Firulais dice Guau!\n"
          ]
        }
      ]
    },
    {
      "cell_type": "markdown",
      "source": [
        "#Ejercicio practico"
      ],
      "metadata": {
        "id": "muEV7iCqnq1o"
      }
    },
    {
      "cell_type": "code",
      "source": [
        "import math"
      ],
      "metadata": {
        "id": "DzbUFdnAnQNO"
      },
      "execution_count": 14,
      "outputs": []
    },
    {
      "cell_type": "code",
      "source": [
        "class Figura:\n",
        "  def area(self):\n",
        "    return 0"
      ],
      "metadata": {
        "id": "XL8vzt_Rn_ax"
      },
      "execution_count": 15,
      "outputs": []
    },
    {
      "cell_type": "code",
      "source": [
        "class Rectangulo(Figura):\n",
        "  def __init__(self, ancho, alto):\n",
        "    self.ancho = ancho\n",
        "    self.alto = alto\n",
        "  def area(self):\n",
        "    return self.ancho * self.alto"
      ],
      "metadata": {
        "id": "Yeh6gqOloE8a"
      },
      "execution_count": 16,
      "outputs": []
    },
    {
      "cell_type": "code",
      "source": [
        "class Circulo(Figura):\n",
        "  def __init__(self, radio):\n",
        "    self.radio = radio\n",
        "  def area(self):\n",
        "    return math.pi * (self.radio ** 2)"
      ],
      "metadata": {
        "id": "1vUhNs0coqc3"
      },
      "execution_count": 17,
      "outputs": []
    },
    {
      "cell_type": "code",
      "source": [
        "def mostrar_area(figura):\n",
        "  print(\"El area es:\",figura.area())"
      ],
      "metadata": {
        "id": "cdUGv2v0o-I6"
      },
      "execution_count": 18,
      "outputs": []
    },
    {
      "cell_type": "code",
      "source": [
        "rectangulo1 = Rectangulo(4,5)\n",
        "circulo1 = Circulo(3)"
      ],
      "metadata": {
        "id": "IWzjHaxLpTTL"
      },
      "execution_count": 19,
      "outputs": []
    },
    {
      "cell_type": "code",
      "source": [
        "mostrar_area(rectangulo1)\n",
        "mostrar_area(circulo1)"
      ],
      "metadata": {
        "colab": {
          "base_uri": "https://localhost:8080/"
        },
        "id": "dstaIqKOpbu9",
        "outputId": "7f8a03ce-d61b-46c9-fa6d-0cb13e9c6109"
      },
      "execution_count": 20,
      "outputs": [
        {
          "output_type": "stream",
          "name": "stdout",
          "text": [
            "El area es: 20\n",
            "El area es: 28.274333882308138\n"
          ]
        }
      ]
    },
    {
      "cell_type": "code",
      "source": [],
      "metadata": {
        "id": "Lo5C8BlRpgCs"
      },
      "execution_count": null,
      "outputs": []
    }
  ]
}