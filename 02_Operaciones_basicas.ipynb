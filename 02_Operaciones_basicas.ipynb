{
  "nbformat": 4,
  "nbformat_minor": 0,
  "metadata": {
    "colab": {
      "provenance": []
    },
    "kernelspec": {
      "name": "python3",
      "display_name": "Python 3"
    },
    "language_info": {
      "name": "python"
    }
  },
  "cells": [
    {
      "cell_type": "markdown",
      "source": [
        "#Operaciones basicas"
      ],
      "metadata": {
        "id": "vyU_2svHTScW"
      }
    },
    {
      "cell_type": "code",
      "execution_count": 1,
      "metadata": {
        "id": "OARazxzoTM7C"
      },
      "outputs": [],
      "source": [
        "# Operaciones aritmeticas basicas\n",
        "a = 10\n",
        "b = 3"
      ]
    },
    {
      "cell_type": "code",
      "source": [
        "sumar = a + b\n",
        "restar = a - b\n",
        "multplicacion = a * b\n",
        "division = a / b\n",
        "potenciacion = a ** b\n",
        "modulo = a % b"
      ],
      "metadata": {
        "id": "ly6iSlUsTV1s"
      },
      "execution_count": 2,
      "outputs": []
    },
    {
      "cell_type": "code",
      "source": [
        "print(\"Suma: \", sumar)\n",
        "print(\"Resta: \", restar)\n",
        "print(\"Multiplicacion: \", multplicacion)\n",
        "print(\"Division: \", division)\n",
        "print(\"Potenciacion: \", potenciacion)\n",
        "print(\"Modulo: \", modulo)"
      ],
      "metadata": {
        "colab": {
          "base_uri": "https://localhost:8080/"
        },
        "id": "mcH9Gc1lUB04",
        "outputId": "3dc8e07a-2c8d-470b-a45a-280d089e01ad"
      },
      "execution_count": 3,
      "outputs": [
        {
          "output_type": "stream",
          "name": "stdout",
          "text": [
            "Suma:  13\n",
            "Resta:  7\n",
            "Multiplicacion:  30\n",
            "Division:  3.3333333333333335\n",
            "Potenciacion:  1000\n",
            "Modulo:  1\n"
          ]
        }
      ]
    }
  ]
}