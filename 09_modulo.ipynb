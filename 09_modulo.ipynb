{
  "nbformat": 4,
  "nbformat_minor": 0,
  "metadata": {
    "colab": {
      "provenance": []
    },
    "kernelspec": {
      "name": "python3",
      "display_name": "Python 3"
    },
    "language_info": {
      "name": "python"
    }
  },
  "cells": [
    {
      "cell_type": "markdown",
      "source": [
        "#Modulos y paquetes"
      ],
      "metadata": {
        "id": "T5PPrjRAx5zQ"
      }
    },
    {
      "cell_type": "code",
      "execution_count": 1,
      "metadata": {
        "id": "ptbIL8Jox3RX"
      },
      "outputs": [],
      "source": [
        "# Importar el modulo\n",
        "import math"
      ]
    },
    {
      "cell_type": "code",
      "source": [
        "# usamos funcion modulo\n",
        "resultado = math.sqrt(16)\n",
        "print(\"Raiz cuadrada de 16:\", resultado)"
      ],
      "metadata": {
        "colab": {
          "base_uri": "https://localhost:8080/"
        },
        "id": "31UIRXeex8WY",
        "outputId": "9f2ea78e-4a10-4b88-f1d7-5110ea7333b7"
      },
      "execution_count": 2,
      "outputs": [
        {
          "output_type": "stream",
          "name": "stdout",
          "text": [
            "Raiz cuadrada de 16: 4.0\n"
          ]
        }
      ]
    },
    {
      "cell_type": "code",
      "source": [
        "# Importar funciones especificas\n",
        "from math import pi"
      ],
      "metadata": {
        "id": "Py2ALQK4yYbE"
      },
      "execution_count": 5,
      "outputs": []
    },
    {
      "cell_type": "code",
      "source": [
        "# usar funcion importada\n",
        "print(\"Valor de pi:\", pi)"
      ],
      "metadata": {
        "colab": {
          "base_uri": "https://localhost:8080/"
        },
        "id": "S9XA81hbysCD",
        "outputId": "2cd6ea24-3f8f-4eec-ff18-0871ec7c2ccb"
      },
      "execution_count": 4,
      "outputs": [
        {
          "output_type": "stream",
          "name": "stdout",
          "text": [
            "Valor de pi: 3.141592653589793\n"
          ]
        }
      ]
    },
    {
      "cell_type": "code",
      "source": [],
      "metadata": {
        "id": "b_awDQ3uywW2"
      },
      "execution_count": null,
      "outputs": []
    }
  ]
}