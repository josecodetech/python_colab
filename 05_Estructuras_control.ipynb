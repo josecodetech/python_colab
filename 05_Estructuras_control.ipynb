{
  "nbformat": 4,
  "nbformat_minor": 0,
  "metadata": {
    "colab": {
      "provenance": []
    },
    "kernelspec": {
      "name": "python3",
      "display_name": "Python 3"
    },
    "language_info": {
      "name": "python"
    }
  },
  "cells": [
    {
      "cell_type": "markdown",
      "source": [
        "#Estructuras de control"
      ],
      "metadata": {
        "id": "-zTSdllo80Cu"
      }
    },
    {
      "cell_type": "markdown",
      "source": [
        "##Condicional IF"
      ],
      "metadata": {
        "id": "ah8zYM7V9ECG"
      }
    },
    {
      "cell_type": "code",
      "execution_count": 3,
      "metadata": {
        "colab": {
          "base_uri": "https://localhost:8080/"
        },
        "id": "VhVk7F1r8pZi",
        "outputId": "5966a95e-0a8b-40e4-c239-53535b7e2d1a"
      },
      "outputs": [
        {
          "output_type": "stream",
          "name": "stdout",
          "text": [
            "Eres mayor de edad\n"
          ]
        }
      ],
      "source": [
        "# Uso de if, elif y else\n",
        "edad = 20\n",
        "if edad < 18:\n",
        "  print(\"Eres menor de edad\")\n",
        "elif edad == 18:\n",
        "  print(\"Tienes 18 años\")\n",
        "else:\n",
        "  print(\"Eres mayor de edad\")"
      ]
    },
    {
      "cell_type": "markdown",
      "source": [
        "##Bucles"
      ],
      "metadata": {
        "id": "5SZoigbk-U42"
      }
    },
    {
      "cell_type": "code",
      "source": [
        "# For\n",
        "numeros = [1, 2, 3, 4, 5]\n",
        "for numero in numeros:\n",
        "  print(\"Numero: \", numero)\n",
        "print(\"Fin del bucle\")"
      ],
      "metadata": {
        "colab": {
          "base_uri": "https://localhost:8080/"
        },
        "id": "LV1R4Ye582Qm",
        "outputId": "de4a9cda-3673-40aa-b02f-24df33d8b2b2"
      },
      "execution_count": 4,
      "outputs": [
        {
          "output_type": "stream",
          "name": "stdout",
          "text": [
            "Numero:  1\n",
            "Numero:  2\n",
            "Numero:  3\n",
            "Numero:  4\n",
            "Numero:  5\n",
            "Fin del bucle\n"
          ]
        }
      ]
    },
    {
      "cell_type": "code",
      "source": [
        "# While\n",
        "contador = 0\n",
        "while contador < 6:\n",
        "  print(\"Contador: \",contador)\n",
        "  # contador = contador + 1\n",
        "  contador += 1\n",
        "print(\"Fin del bucle\")\n"
      ],
      "metadata": {
        "colab": {
          "base_uri": "https://localhost:8080/"
        },
        "id": "0TSPVwlq_HEo",
        "outputId": "b556035f-4e91-40e0-961a-ff9171c6f32a"
      },
      "execution_count": 5,
      "outputs": [
        {
          "output_type": "stream",
          "name": "stdout",
          "text": [
            "Contador:  0\n",
            "Contador:  1\n",
            "Contador:  2\n",
            "Contador:  3\n",
            "Contador:  4\n",
            "Contador:  5\n",
            "Fin del bucle\n"
          ]
        }
      ]
    },
    {
      "cell_type": "markdown",
      "source": [
        "##Ejercicio practico"
      ],
      "metadata": {
        "id": "hyE8ibKJAXXD"
      }
    },
    {
      "cell_type": "code",
      "source": [
        "numero = int(input(\"Ingresa un numero: \"))"
      ],
      "metadata": {
        "colab": {
          "base_uri": "https://localhost:8080/"
        },
        "id": "4E3vGjbmAH-N",
        "outputId": "31779d89-c597-4ae3-d984-a0bf97530136"
      },
      "execution_count": 13,
      "outputs": [
        {
          "name": "stdout",
          "output_type": "stream",
          "text": [
            "Ingresa un numero: 6\n"
          ]
        }
      ]
    },
    {
      "cell_type": "code",
      "source": [
        "if numero > 0:\n",
        "  print(\"El numero es positivo\")\n",
        "  for i in range(1, numero + 1):\n",
        "    print(i)\n",
        "elif numero < 0:\n",
        "  print(\"El numero es negativo\")\n",
        "  while numero < 0:\n",
        "    print(numero)\n",
        "    numero += 1\n",
        "else:\n",
        "  print(\"El numero es cero\")\n",
        "print(\"Codigo terminado\")"
      ],
      "metadata": {
        "colab": {
          "base_uri": "https://localhost:8080/"
        },
        "id": "p5cvOIYKAZcg",
        "outputId": "0c231878-c39e-4622-f2b2-21ec373465bf"
      },
      "execution_count": 14,
      "outputs": [
        {
          "output_type": "stream",
          "name": "stdout",
          "text": [
            "El numero es positivo\n",
            "1\n",
            "2\n",
            "3\n",
            "4\n",
            "5\n",
            "6\n",
            "Codigo terminado\n"
          ]
        }
      ]
    }
  ]
}