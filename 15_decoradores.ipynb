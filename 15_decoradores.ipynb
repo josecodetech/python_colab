{
  "nbformat": 4,
  "nbformat_minor": 0,
  "metadata": {
    "colab": {
      "provenance": []
    },
    "kernelspec": {
      "name": "python3",
      "display_name": "Python 3"
    },
    "language_info": {
      "name": "python"
    }
  },
  "cells": [
    {
      "cell_type": "markdown",
      "source": [
        "#Decoradores"
      ],
      "metadata": {
        "id": "Vw8e-O_7qk2a"
      }
    },
    {
      "cell_type": "code",
      "execution_count": 1,
      "metadata": {
        "id": "sNq2u6VgqiX4"
      },
      "outputs": [],
      "source": [
        "# Definir un decorador\n",
        "def mi_decorador(funcion):\n",
        "  def funcion_decorada():\n",
        "    print(\"Antes de ejecutar la funcion\")\n",
        "    funcion()\n",
        "    print(\"Despues de ejecutar la funcion\")\n",
        "  return funcion_decorada"
      ]
    },
    {
      "cell_type": "code",
      "source": [
        "# Usar el decorador\n",
        "@mi_decorador\n",
        "def mi_funcion():\n",
        "  print(\"Hola desde funcion decorada\")"
      ],
      "metadata": {
        "id": "voYhohQeqnFb"
      },
      "execution_count": 2,
      "outputs": []
    },
    {
      "cell_type": "code",
      "source": [
        "mi_funcion()"
      ],
      "metadata": {
        "colab": {
          "base_uri": "https://localhost:8080/"
        },
        "id": "WZPV1K-MreSR",
        "outputId": "586b3830-a31f-4aa2-b42d-84751b5d6c7d"
      },
      "execution_count": 3,
      "outputs": [
        {
          "output_type": "stream",
          "name": "stdout",
          "text": [
            "Antes de ejecutar la funcion\n",
            "Hola desde funcion decorada\n",
            "Despues de ejecutar la funcion\n"
          ]
        }
      ]
    },
    {
      "cell_type": "code",
      "source": [
        "# Definir decorador que acepta argumentos\n",
        "def repetir(n):\n",
        "  def decorador(funcion):\n",
        "    def funcion_decorada(*args, **kwargs):\n",
        "      for _ in range(n):\n",
        "        funcion(*args, **kwargs)\n",
        "    return funcion_decorada\n",
        "  return decorador"
      ],
      "metadata": {
        "id": "IbGy4dJnriJa"
      },
      "execution_count": 7,
      "outputs": []
    },
    {
      "cell_type": "code",
      "source": [
        "# Usamos decorador con argumentos\n",
        "@repetir(8)\n",
        "def saludar(nombre):\n",
        "  print(f\"Hola {nombre}\")"
      ],
      "metadata": {
        "id": "Q9pITXoXsn8I"
      },
      "execution_count": 10,
      "outputs": []
    },
    {
      "cell_type": "code",
      "source": [
        "saludar(\"Jose\")"
      ],
      "metadata": {
        "colab": {
          "base_uri": "https://localhost:8080/"
        },
        "id": "4OYPxty3sx1d",
        "outputId": "989d0da2-a5bf-444f-f48a-775706bbf4e4"
      },
      "execution_count": 11,
      "outputs": [
        {
          "output_type": "stream",
          "name": "stdout",
          "text": [
            "Hola Jose\n",
            "Hola Jose\n",
            "Hola Jose\n",
            "Hola Jose\n",
            "Hola Jose\n",
            "Hola Jose\n",
            "Hola Jose\n",
            "Hola Jose\n"
          ]
        }
      ]
    },
    {
      "cell_type": "code",
      "source": [
        "# Decoradores anidados\n",
        "def decorador1(funcion):\n",
        "  def funcion_decorada():\n",
        "    print(\"Decorador 1: Antes de ejecutar la funcion\")\n",
        "    funcion()\n",
        "    print(\"Decorador 1: Despues de ejecutar la funcion\")\n",
        "  return funcion_decorada"
      ],
      "metadata": {
        "id": "eu5eLqw_s0xj"
      },
      "execution_count": 12,
      "outputs": []
    },
    {
      "cell_type": "code",
      "source": [
        "def decorador2(funcion):\n",
        "  def funcion_decorada():\n",
        "    print(\"Decorador 2: Antes de ejecutar la funcion\")\n",
        "    funcion()\n",
        "    print(\"Decorador 2: Despues de ejecutar la funcion\")\n",
        "  return funcion_decorada"
      ],
      "metadata": {
        "id": "DAKawAl8tels"
      },
      "execution_count": 13,
      "outputs": []
    },
    {
      "cell_type": "code",
      "source": [
        "# Usar decoradores\n",
        "@decorador1\n",
        "@decorador2\n",
        "def mi_funcion():\n",
        "  print(\"Hola desde funcion decorada\")"
      ],
      "metadata": {
        "id": "Gdf-ku9AtkZY"
      },
      "execution_count": 14,
      "outputs": []
    },
    {
      "cell_type": "code",
      "source": [
        "mi_funcion()"
      ],
      "metadata": {
        "colab": {
          "base_uri": "https://localhost:8080/"
        },
        "id": "Uyioxk5Atzzq",
        "outputId": "6b8a0adb-56ed-496a-946b-ecdc507af96c"
      },
      "execution_count": 15,
      "outputs": [
        {
          "output_type": "stream",
          "name": "stdout",
          "text": [
            "Decorador 1: Antes de ejecutar la funcion\n",
            "Decorador 2: Antes de ejecutar la funcion\n",
            "Hola desde funcion decorada\n",
            "Decorador 2: Despues de ejecutar la funcion\n",
            "Decorador 1: Despues de ejecutar la funcion\n"
          ]
        }
      ]
    },
    {
      "cell_type": "markdown",
      "source": [
        "#Ejercicio practico"
      ],
      "metadata": {
        "id": "17lv_8BCt-cb"
      }
    },
    {
      "cell_type": "code",
      "source": [
        "import time"
      ],
      "metadata": {
        "id": "1PKykpyqt11N"
      },
      "execution_count": 16,
      "outputs": []
    },
    {
      "cell_type": "code",
      "source": [
        "def tiempo_ejecucion(funcion):\n",
        "  def funcion_decorada(*args, **kwargs):\n",
        "    inicio = time.time()\n",
        "    resultado = funcion(*args, **kwargs)\n",
        "    fin = time.time()\n",
        "    print(f\"Tiempo de ejecucion: {fin - inicio:.5f} segundos\")\n",
        "    return resultado\n",
        "  return funcion_decorada"
      ],
      "metadata": {
        "id": "cgoaPIpVuUt2"
      },
      "execution_count": 17,
      "outputs": []
    },
    {
      "cell_type": "code",
      "source": [
        "@tiempo_ejecucion\n",
        "def suma_numeros(n):\n",
        "  suma = 0\n",
        "  for i in range(1, n + 1):\n",
        "    suma += i\n",
        "  return suma"
      ],
      "metadata": {
        "id": "-S8IwuC9u9Ps"
      },
      "execution_count": 18,
      "outputs": []
    },
    {
      "cell_type": "code",
      "source": [
        "print(\"Suma de los primeros 100 numeros:\", suma_numeros(100))\n",
        "print(\"Suma de los primeros 100000 numeros:\", suma_numeros(100000))"
      ],
      "metadata": {
        "colab": {
          "base_uri": "https://localhost:8080/"
        },
        "id": "3wXStW-LvMN6",
        "outputId": "0f4f0d7f-6802-437b-e5f5-188e484e585e"
      },
      "execution_count": 20,
      "outputs": [
        {
          "output_type": "stream",
          "name": "stdout",
          "text": [
            "Tiempo de ejecucion: 0.00002 segundos\n",
            "Suma de los primeros 100 numeros: 5050\n",
            "Tiempo de ejecucion: 0.01465 segundos\n",
            "Suma de los primeros 100000 numeros: 5000050000\n"
          ]
        }
      ]
    },
    {
      "cell_type": "code",
      "source": [],
      "metadata": {
        "id": "BRwozwIOvfYC"
      },
      "execution_count": null,
      "outputs": []
    }
  ]
}