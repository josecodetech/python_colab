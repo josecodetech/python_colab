{
  "nbformat": 4,
  "nbformat_minor": 0,
  "metadata": {
    "colab": {
      "provenance": []
    },
    "kernelspec": {
      "name": "python3",
      "display_name": "Python 3"
    },
    "language_info": {
      "name": "python"
    }
  },
  "cells": [
    {
      "cell_type": "markdown",
      "source": [
        "#Excepciones y control de errores"
      ],
      "metadata": {
        "id": "9VTu2eviWCLk"
      }
    },
    {
      "cell_type": "code",
      "execution_count": 3,
      "metadata": {
        "colab": {
          "base_uri": "https://localhost:8080/"
        },
        "id": "QbuqorczV9z3",
        "outputId": "e4da1cb1-1b9d-4ac9-e806-9ce3873833db"
      },
      "outputs": [
        {
          "output_type": "stream",
          "name": "stdout",
          "text": [
            "No se puede dividir entre cero\n"
          ]
        }
      ],
      "source": [
        "# Manejo basico de excepciones\n",
        "try:\n",
        "  resultado = 10 / 0\n",
        "except ZeroDivisionError:\n",
        "  print(\"No se puede dividir entre cero\")"
      ]
    },
    {
      "cell_type": "code",
      "source": [
        "# resultado = 10 / 0"
      ],
      "metadata": {
        "id": "j5kIwHyAWFbl"
      },
      "execution_count": 2,
      "outputs": []
    },
    {
      "cell_type": "code",
      "source": [
        "# Manejo de multiples excepciones\n",
        "try:\n",
        "  numero = int(input(\"Ingresa un numero: \"))\n",
        "  resultado = 10 / numero\n",
        "  print(\"Resultado:\", resultado)\n",
        "except ZeroDivisionError:\n",
        "  print(\"Error: Division por cero\")\n",
        "except ValueError:\n",
        "  print(\"Error: Entrada invalida, no es un numero\")\n",
        "except Exception as e:\n",
        "  print(\"Error:\", type(e).__name__)"
      ],
      "metadata": {
        "colab": {
          "base_uri": "https://localhost:8080/"
        },
        "id": "4J-EtihEXGu7",
        "outputId": "b273759b-6f3b-4804-d5a1-5fdbe8d20938"
      },
      "execution_count": 8,
      "outputs": [
        {
          "output_type": "stream",
          "name": "stdout",
          "text": [
            "Ingresa un numero: 0\n",
            "Error: ZeroDivisionError\n"
          ]
        }
      ]
    },
    {
      "cell_type": "code",
      "source": [
        "# uso de else y finally\n",
        "try:\n",
        "  numero = int(input(\"Ingresa un numero: \"))\n",
        "  resultado = 15 / numero\n",
        "except ZeroDivisionError:\n",
        "  print(\"Error: No se puede dividir por cero\")\n",
        "except ValueError:\n",
        "  print(\"Error: No es un numero\")\n",
        "else:\n",
        "  print(\"El resultado es: \", resultado)\n",
        "finally:\n",
        "  print(\"Esta linea se ejecuta pase lo que pase\")"
      ],
      "metadata": {
        "colab": {
          "base_uri": "https://localhost:8080/"
        },
        "id": "8VLn3f2uXmRU",
        "outputId": "f3cb1634-869f-437a-e723-c568947fbe7d"
      },
      "execution_count": 11,
      "outputs": [
        {
          "output_type": "stream",
          "name": "stdout",
          "text": [
            "Ingresa un numero: jkljlkjk\n",
            "Error: No es un numero\n",
            "Esta linea se ejecuta pase lo que pase\n"
          ]
        }
      ]
    },
    {
      "cell_type": "code",
      "source": [
        "# Definir una excepcion personalizada\n",
        "class ErrorPersonalizado(Exception):\n",
        "  pass"
      ],
      "metadata": {
        "id": "KYkKAVT0YuCc"
      },
      "execution_count": 12,
      "outputs": []
    },
    {
      "cell_type": "code",
      "source": [
        "# Usamos la excepcion personalizada\n",
        "try:\n",
        "  raise ErrorPersonalizado(\"Este es un error personalizado\")\n",
        "except ErrorPersonalizado as e:\n",
        "  print(e)"
      ],
      "metadata": {
        "colab": {
          "base_uri": "https://localhost:8080/"
        },
        "id": "SHX-Pkb7Zru8",
        "outputId": "459082df-989d-4bac-c5c3-ee46453a6370"
      },
      "execution_count": 13,
      "outputs": [
        {
          "output_type": "stream",
          "name": "stdout",
          "text": [
            "Este es un error personalizado\n"
          ]
        }
      ]
    },
    {
      "cell_type": "markdown",
      "source": [
        "#Ejercicio practico"
      ],
      "metadata": {
        "id": "XFXKxZ71acSB"
      }
    },
    {
      "cell_type": "code",
      "source": [
        "try:\n",
        "  numerador = float(input(\"Ingresa el numerador: \"))\n",
        "  denominador = float(input(\"Ingresa el denominador: \"))\n",
        "  resultado = numerador / denominador\n",
        "except ZeroDivisionError:\n",
        "  print(\"Error: No se puede dividir por cero\")\n",
        "except ValueError:\n",
        "  print(\"Error: No es un numero\")\n",
        "else:\n",
        "  print(\"El resultado es: \", resultado)\n",
        "finally:\n",
        "  print(\"Programa finalizado\")"
      ],
      "metadata": {
        "colab": {
          "base_uri": "https://localhost:8080/"
        },
        "id": "UUBnxAKXaJae",
        "outputId": "9256dddd-9486-437d-cde4-760235add83c"
      },
      "execution_count": 17,
      "outputs": [
        {
          "output_type": "stream",
          "name": "stdout",
          "text": [
            "Ingresa el numerador: 25\n",
            "Ingresa el denominador: kjlkjlk\n",
            "Error: No es un numero\n",
            "Programa finalizado\n"
          ]
        }
      ]
    },
    {
      "cell_type": "code",
      "source": [],
      "metadata": {
        "id": "HnipSbXoae1G"
      },
      "execution_count": null,
      "outputs": []
    }
  ]
}