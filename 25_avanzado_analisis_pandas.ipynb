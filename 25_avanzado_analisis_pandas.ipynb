{
  "nbformat": 4,
  "nbformat_minor": 0,
  "metadata": {
    "colab": {
      "provenance": []
    },
    "kernelspec": {
      "name": "python3",
      "display_name": "Python 3"
    },
    "language_info": {
      "name": "python"
    }
  },
  "cells": [
    {
      "cell_type": "markdown",
      "source": [
        "#Analisis de datos con Pandas"
      ],
      "metadata": {
        "id": "QMeAKnuEPhuw"
      }
    },
    {
      "cell_type": "code",
      "execution_count": 1,
      "metadata": {
        "id": "2FBWGfnVPc53"
      },
      "outputs": [],
      "source": [
        "import pandas as pd"
      ]
    },
    {
      "cell_type": "code",
      "source": [
        "datos = {\n",
        "    \"Departamento\": [\"Ventas\",\"TI\",\"Ventas\",\"TI\",\"HR\",\"HR\"],\n",
        "    \"Empleado\": [\"Ana\",\"Luis\",\"Juan\",\"Maria\",\"Pedro\",\"Laura\"],\n",
        "    \"Salario\":[50000,54000,58000,60000,52000,51000]\n",
        "}\n",
        "# type(datos)"
      ],
      "metadata": {
        "colab": {
          "base_uri": "https://localhost:8080/"
        },
        "id": "MahuLt-aPlHz",
        "outputId": "0c8f687b-74da-40e4-e41f-7b4e0ffab5bf"
      },
      "execution_count": 4,
      "outputs": [
        {
          "output_type": "execute_result",
          "data": {
            "text/plain": [
              "dict"
            ]
          },
          "metadata": {},
          "execution_count": 4
        }
      ]
    },
    {
      "cell_type": "code",
      "source": [
        "df = pd.DataFrame(datos)"
      ],
      "metadata": {
        "id": "-RX19IDOQT8S"
      },
      "execution_count": 3,
      "outputs": []
    },
    {
      "cell_type": "code",
      "source": [
        "# Agrupar por departamento y calcular la media de salarios\n",
        "agrupado = df.groupby(\"Departamento\")\n",
        "salario_medio = agrupado[\"Salario\"].mean()\n",
        "print(salario_medio)"
      ],
      "metadata": {
        "colab": {
          "base_uri": "https://localhost:8080/"
        },
        "id": "bX8oQu4hQZsp",
        "outputId": "f19d880e-0539-4cf9-9d2e-71a8616d9f7e"
      },
      "execution_count": 5,
      "outputs": [
        {
          "output_type": "stream",
          "name": "stdout",
          "text": [
            "Departamento\n",
            "HR        51500.0\n",
            "TI        57000.0\n",
            "Ventas    54000.0\n",
            "Name: Salario, dtype: float64\n"
          ]
        }
      ]
    },
    {
      "cell_type": "markdown",
      "source": [
        "#Datos faltantes"
      ],
      "metadata": {
        "id": "hboJN26GQ-yn"
      }
    },
    {
      "cell_type": "code",
      "source": [
        "import pandas as pd"
      ],
      "metadata": {
        "id": "TGmByYhwQwU9"
      },
      "execution_count": 6,
      "outputs": []
    },
    {
      "cell_type": "code",
      "source": [
        "# Datos con valores faltantes\n",
        "datos = {\n",
        "    \"Nombre\": [\"Ana\", \"Luis\", \"Juan\", \"Maria\", \"Pedro\"],\n",
        "    \"Edad\": [25, 30, None, 28, 32],\n",
        "    \"Departamento\": [\"Ventas\", \"TI\", \"Ventas\", \"TI\", None]\n",
        "}"
      ],
      "metadata": {
        "id": "_CQ7OQh7RRjb"
      },
      "execution_count": 7,
      "outputs": []
    },
    {
      "cell_type": "code",
      "source": [
        "df = pd.DataFrame(datos)"
      ],
      "metadata": {
        "id": "3ThKrIIZRf9b"
      },
      "execution_count": 8,
      "outputs": []
    },
    {
      "cell_type": "code",
      "source": [
        "# Mostramos datos\n",
        "print(\"Datos originales: \")\n",
        "print(df)"
      ],
      "metadata": {
        "colab": {
          "base_uri": "https://localhost:8080/"
        },
        "id": "b4-eK_tXRoLF",
        "outputId": "0aa6c011-4318-440f-f0b9-4eb507d21710"
      },
      "execution_count": 9,
      "outputs": [
        {
          "output_type": "stream",
          "name": "stdout",
          "text": [
            "Datos originales: \n",
            "  Nombre  Edad Departamento\n",
            "0    Ana  25.0       Ventas\n",
            "1   Luis  30.0           TI\n",
            "2   Juan   NaN       Ventas\n",
            "3  Maria  28.0           TI\n",
            "4  Pedro  32.0         None\n"
          ]
        }
      ]
    },
    {
      "cell_type": "code",
      "source": [
        "# Cambiamos valores faltantes con valor especifico\n",
        "df_sin_nulos = df.fillna({\"Edad\":df[\"Edad\"].mean(), \"Departamento\":\"Desconocido\"})\n",
        "print(\"\\nDatos sin nulos: \")\n",
        "print(df_sin_nulos)\n"
      ],
      "metadata": {
        "colab": {
          "base_uri": "https://localhost:8080/"
        },
        "id": "_hNUulW-RvJl",
        "outputId": "3d8a96b9-c371-44ef-bbd4-154fd9f63e6e"
      },
      "execution_count": 10,
      "outputs": [
        {
          "output_type": "stream",
          "name": "stdout",
          "text": [
            "\n",
            "Datos sin nulos: \n",
            "  Nombre   Edad Departamento\n",
            "0    Ana  25.00       Ventas\n",
            "1   Luis  30.00           TI\n",
            "2   Juan  28.75       Ventas\n",
            "3  Maria  28.00           TI\n",
            "4  Pedro  32.00  Desconocido\n"
          ]
        }
      ]
    },
    {
      "cell_type": "code",
      "source": [
        "# Eliminamos filas con valores faltantes\n",
        "df_eliminado = df.dropna()\n",
        "print(\"\\nDatos sin nulos: \")\n",
        "print(df_eliminado)"
      ],
      "metadata": {
        "colab": {
          "base_uri": "https://localhost:8080/"
        },
        "id": "fV-E_AA-SHlO",
        "outputId": "43e031ed-fd59-4ad8-e026-920d50c69c34"
      },
      "execution_count": 11,
      "outputs": [
        {
          "output_type": "stream",
          "name": "stdout",
          "text": [
            "\n",
            "Datos sin nulos: \n",
            "  Nombre  Edad Departamento\n",
            "0    Ana  25.0       Ventas\n",
            "1   Luis  30.0           TI\n",
            "3  Maria  28.0           TI\n"
          ]
        }
      ]
    },
    {
      "cell_type": "markdown",
      "source": [
        "#Union de dataframes"
      ],
      "metadata": {
        "id": "qIg8cpiKSri-"
      }
    },
    {
      "cell_type": "code",
      "source": [
        "import pandas as pd"
      ],
      "metadata": {
        "id": "rrT0bAL6SXFz"
      },
      "execution_count": 12,
      "outputs": []
    },
    {
      "cell_type": "code",
      "source": [
        "# Datos de ejemplos\n",
        "datos1 = {\n",
        "    \"ID\": [1, 2, 3],\n",
        "    \"Nombre\": [\"Ana\", \"Luis\", \"Juan\"]\n",
        "}\n",
        "datos2 = {\n",
        "    \"ID\": [1,2,4],\n",
        "    \"Salario\": [50000, 60000, 70000]\n",
        "}\n"
      ],
      "metadata": {
        "id": "-SqAy-krSvwk"
      },
      "execution_count": 13,
      "outputs": []
    },
    {
      "cell_type": "code",
      "source": [
        "df1 = pd.DataFrame(datos1)\n",
        "df2 = pd.DataFrame(datos2)"
      ],
      "metadata": {
        "id": "8N24NrQCS_Mm"
      },
      "execution_count": 14,
      "outputs": []
    },
    {
      "cell_type": "code",
      "source": [
        "# Union interna (inner join)\n",
        "df_inner = pd.merge(df1, df2, on=\"ID\", how=\"inner\")\n",
        "print(\"Union interna: \")\n",
        "print(df_inner)"
      ],
      "metadata": {
        "colab": {
          "base_uri": "https://localhost:8080/"
        },
        "id": "PaWtAhp9TBwh",
        "outputId": "7af4c38a-e81f-4b3b-f4d9-cefca83bc9cc"
      },
      "execution_count": 15,
      "outputs": [
        {
          "output_type": "stream",
          "name": "stdout",
          "text": [
            "Union interna: \n",
            "   ID Nombre  Salario\n",
            "0   1    Ana    50000\n",
            "1   2   Luis    60000\n"
          ]
        }
      ]
    },
    {
      "cell_type": "code",
      "source": [
        "# union externa (outer join)\n",
        "df_outer = pd.merge(df1, df2, on=\"ID\", how=\"outer\")\n",
        "print(\"\\nUnion externa: \")\n",
        "print(df_outer)"
      ],
      "metadata": {
        "colab": {
          "base_uri": "https://localhost:8080/"
        },
        "id": "o1vpeRmLTPTo",
        "outputId": "a7e1bd27-b0aa-41ce-8612-2042cda13df1"
      },
      "execution_count": 16,
      "outputs": [
        {
          "output_type": "stream",
          "name": "stdout",
          "text": [
            "\n",
            "Union externa: \n",
            "   ID Nombre  Salario\n",
            "0   1    Ana  50000.0\n",
            "1   2   Luis  60000.0\n",
            "2   3   Juan      NaN\n",
            "3   4    NaN  70000.0\n"
          ]
        }
      ]
    },
    {
      "cell_type": "markdown",
      "source": [
        "#Ejercicio practico"
      ],
      "metadata": {
        "id": "rfRGUOvsTmmf"
      }
    },
    {
      "cell_type": "code",
      "source": [
        "import pandas as pd"
      ],
      "metadata": {
        "id": "Gy0CDlvTTdgQ"
      },
      "execution_count": 17,
      "outputs": []
    },
    {
      "cell_type": "code",
      "source": [
        "# Productos\n",
        "productos = {\n",
        "    \"ID_Producto\": [1, 2, 3, 4, 5],\n",
        "    \"Nombre\": [\"Camiseta\", \"Pantalón\", \"Zapatos\", \"Blusa\", \"Chaqueta\"],\n",
        "    \"Categoria\": [\"Ropa\", \"Ropa\", \"Calzado\", \"Ropa\", \"Ropa\"]\n",
        "}\n",
        "# Ventas\n",
        "ventas = {\n",
        "    \"ID_Producto\": [2, 2, 3, 4, 4],\n",
        "    \"Ventas\": [10, 5, 8, 12, 6]\n",
        "}"
      ],
      "metadata": {
        "id": "HDZxZiWvT2aj"
      },
      "execution_count": 18,
      "outputs": []
    },
    {
      "cell_type": "code",
      "source": [
        "df_productos = pd.DataFrame(productos)\n",
        "df_ventas = pd.DataFrame(ventas)\n"
      ],
      "metadata": {
        "id": "exTjRKhnUPIH"
      },
      "execution_count": 22,
      "outputs": []
    },
    {
      "cell_type": "code",
      "source": [
        "df_union = pd.merge(df_productos, df_ventas, on=\"ID_Producto\", how=\"inner\")\n",
        "print(df_union)\n"
      ],
      "metadata": {
        "colab": {
          "base_uri": "https://localhost:8080/"
        },
        "id": "OIVi_KXVUTHP",
        "outputId": "48c2317b-016f-45df-abef-ff4ed06830d7"
      },
      "execution_count": 23,
      "outputs": [
        {
          "output_type": "stream",
          "name": "stdout",
          "text": [
            "   ID_Producto    Nombre Categoria  Ventas\n",
            "0            2  Pantalón      Ropa      10\n",
            "1            2  Pantalón      Ropa       5\n",
            "2            3   Zapatos   Calzado       8\n",
            "3            4     Blusa      Ropa      12\n",
            "4            4     Blusa      Ropa       6\n"
          ]
        }
      ]
    },
    {
      "cell_type": "code",
      "source": [
        "ventas_por_categoria = df_union.groupby(\"Categoria\")[\"Ventas\"].sum()\n",
        "print(\"Ventas totales por categoria:\")\n",
        "print(ventas_por_categoria)"
      ],
      "metadata": {
        "colab": {
          "base_uri": "https://localhost:8080/"
        },
        "id": "I1U7prbCUjDD",
        "outputId": "117979ed-7d2b-4d5e-c669-eb6f7968f9f9"
      },
      "execution_count": 24,
      "outputs": [
        {
          "output_type": "stream",
          "name": "stdout",
          "text": [
            "Ventas totales por categoria:\n",
            "Categoria\n",
            "Calzado     8\n",
            "Ropa       33\n",
            "Name: Ventas, dtype: int64\n"
          ]
        }
      ]
    },
    {
      "cell_type": "code",
      "source": [],
      "metadata": {
        "id": "zsrJDO5OUyUW"
      },
      "execution_count": null,
      "outputs": []
    }
  ]
}