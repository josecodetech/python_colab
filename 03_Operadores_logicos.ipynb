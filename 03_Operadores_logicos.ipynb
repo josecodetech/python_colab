{
  "nbformat": 4,
  "nbformat_minor": 0,
  "metadata": {
    "colab": {
      "provenance": []
    },
    "kernelspec": {
      "name": "python3",
      "display_name": "Python 3"
    },
    "language_info": {
      "name": "python"
    }
  },
  "cells": [
    {
      "cell_type": "markdown",
      "source": [
        "#Operadores logicos"
      ],
      "metadata": {
        "id": "tds6MQe0Ull8"
      }
    },
    {
      "cell_type": "code",
      "execution_count": null,
      "metadata": {
        "id": "weWif5bgUfUa"
      },
      "outputs": [],
      "source": [
        "# and (y) or (o) not (no)"
      ]
    },
    {
      "cell_type": "code",
      "source": [
        "# Operadores logicos\n",
        "x = True\n",
        "y = False"
      ],
      "metadata": {
        "id": "Zk1KwGLWUnsh"
      },
      "execution_count": 4,
      "outputs": []
    },
    {
      "cell_type": "code",
      "source": [
        "resultado_and = x and y\n",
        "resultado_or = x or y\n",
        "resultado_not = not x"
      ],
      "metadata": {
        "id": "bOrw8XECU6jZ"
      },
      "execution_count": 5,
      "outputs": []
    },
    {
      "cell_type": "code",
      "source": [
        "print(\"x and y : \",resultado_and)\n",
        "print(\"x or y : \",resultado_or)\n",
        "print(\"not x : \",resultado_not)"
      ],
      "metadata": {
        "colab": {
          "base_uri": "https://localhost:8080/"
        },
        "id": "oo9aINdUVJdD",
        "outputId": "1a745d30-606c-487f-bc3a-593867cf72ef"
      },
      "execution_count": 6,
      "outputs": [
        {
          "output_type": "stream",
          "name": "stdout",
          "text": [
            "x and y :  False\n",
            "x or y :  False\n",
            "not x :  True\n"
          ]
        }
      ]
    },
    {
      "cell_type": "code",
      "source": [
        "type(resultado_and)"
      ],
      "metadata": {
        "colab": {
          "base_uri": "https://localhost:8080/"
        },
        "id": "Xu08Xh6PVQXx",
        "outputId": "c89ccc6f-4a0c-454c-f6a7-82fa21a85cd5"
      },
      "execution_count": 7,
      "outputs": [
        {
          "output_type": "execute_result",
          "data": {
            "text/plain": [
              "bool"
            ]
          },
          "metadata": {},
          "execution_count": 7
        }
      ]
    },
    {
      "cell_type": "code",
      "source": [
        "type(x)"
      ],
      "metadata": {
        "colab": {
          "base_uri": "https://localhost:8080/"
        },
        "id": "x5KN5PhRVo0p",
        "outputId": "68ab4a2d-1123-4acf-b045-946cbb10c68c"
      },
      "execution_count": 8,
      "outputs": [
        {
          "output_type": "execute_result",
          "data": {
            "text/plain": [
              "bool"
            ]
          },
          "metadata": {},
          "execution_count": 8
        }
      ]
    },
    {
      "cell_type": "code",
      "source": [],
      "metadata": {
        "id": "ICSiCDNpVq4l"
      },
      "execution_count": null,
      "outputs": []
    }
  ]
}