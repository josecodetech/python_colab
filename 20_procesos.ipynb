{
  "nbformat": 4,
  "nbformat_minor": 0,
  "metadata": {
    "colab": {
      "provenance": []
    },
    "kernelspec": {
      "name": "python3",
      "display_name": "Python 3"
    },
    "language_info": {
      "name": "python"
    }
  },
  "cells": [
    {
      "cell_type": "markdown",
      "source": [
        "#Procesos"
      ],
      "metadata": {
        "id": "tuYtrqpf7kOl"
      }
    },
    {
      "cell_type": "code",
      "execution_count": 1,
      "metadata": {
        "id": "2Lh5Ru437hxg"
      },
      "outputs": [],
      "source": [
        "import multiprocessing\n",
        "import time"
      ]
    },
    {
      "cell_type": "code",
      "source": [
        "# Definir funcion a ejecutar en proceso\n",
        "def tarea():\n",
        "  for i in range(5):\n",
        "    print(f\"Tarea en ejecucion: {i}\")\n",
        "    time.sleep(1)"
      ],
      "metadata": {
        "id": "nliu9TFk7lml"
      },
      "execution_count": 2,
      "outputs": []
    },
    {
      "cell_type": "code",
      "source": [
        "# Creamos el proceso\n",
        "proceso = multiprocessing.Process(target=tarea)"
      ],
      "metadata": {
        "id": "6yfRs4jm8AdJ"
      },
      "execution_count": 3,
      "outputs": []
    },
    {
      "cell_type": "code",
      "source": [
        "# Iniciar el proceso\n",
        "proceso.start()\n",
        "# Esperar terminacion\n",
        "proceso.join()\n",
        "print(\"Proceso terminado\")"
      ],
      "metadata": {
        "colab": {
          "base_uri": "https://localhost:8080/"
        },
        "id": "nIPRgHDN8GN2",
        "outputId": "3b630fef-5e76-4466-a360-c92a9b9ecf8b"
      },
      "execution_count": 4,
      "outputs": [
        {
          "output_type": "stream",
          "name": "stdout",
          "text": [
            "Tarea en ejecucion: 0\n",
            "Tarea en ejecucion: 1\n",
            "Tarea en ejecucion: 2\n",
            "Tarea en ejecucion: 3\n",
            "Tarea en ejecucion: 4\n",
            "Proceso terminado\n"
          ]
        }
      ]
    },
    {
      "cell_type": "markdown",
      "source": [
        "#Proceso con argumentos"
      ],
      "metadata": {
        "id": "HAPJn1l48gcX"
      }
    },
    {
      "cell_type": "code",
      "source": [
        "import multiprocessing\n",
        "import time"
      ],
      "metadata": {
        "id": "IScFQUS18QfK"
      },
      "execution_count": 5,
      "outputs": []
    },
    {
      "cell_type": "code",
      "source": [
        "# Definimos la funcion\n",
        "def tarea(nombre, duracion):\n",
        "  for i in range(5):\n",
        "    print(f\"Tarea {nombre} en ejecucion: {i}\")\n",
        "    time.sleep(duracion)"
      ],
      "metadata": {
        "id": "84pk4bQ48jXq"
      },
      "execution_count": 6,
      "outputs": []
    },
    {
      "cell_type": "code",
      "source": [
        "# Creamos e iniciamos procesos con argumentos\n",
        "proceso1 = multiprocessing.Process(target=tarea, args=(\"A\", 1))\n",
        "proceso2 = multiprocessing.Process(target=tarea, args=(\"B\", 2))\n",
        "proceso1.start()\n",
        "proceso2.start()\n",
        "# Esperamos terminacion\n",
        "proceso1.join()\n",
        "proceso2.join()\n",
        "print(\"Proceso terminado\")"
      ],
      "metadata": {
        "colab": {
          "base_uri": "https://localhost:8080/"
        },
        "id": "D8NctcbQ9BZb",
        "outputId": "7acac18a-7f81-44d5-bf0e-20920aa0cf93"
      },
      "execution_count": 8,
      "outputs": [
        {
          "output_type": "stream",
          "name": "stdout",
          "text": [
            "Tarea A en ejecucion: 0\n",
            "Tarea B en ejecucion: 0\n",
            "Tarea A en ejecucion: 1\n",
            "Tarea A en ejecucion: 2Tarea B en ejecucion: 1\n",
            "\n",
            "Tarea A en ejecucion: 3\n",
            "Tarea B en ejecucion: 2\n",
            "Tarea A en ejecucion: 4\n",
            "Tarea B en ejecucion: 3\n",
            "Tarea B en ejecucion: 4\n",
            "Proceso terminado\n"
          ]
        }
      ]
    },
    {
      "cell_type": "markdown",
      "source": [
        "#Compartir datos entre procesos"
      ],
      "metadata": {
        "id": "-OJYcniG9fr0"
      }
    },
    {
      "cell_type": "code",
      "source": [
        "import multiprocessing"
      ],
      "metadata": {
        "id": "LQDIlT_I9JFG"
      },
      "execution_count": 9,
      "outputs": []
    },
    {
      "cell_type": "code",
      "source": [
        "def tarea(queue):\n",
        "  queue.put(\"Mensaje desde el proceso\")"
      ],
      "metadata": {
        "id": "Yb0tUBDq9l23"
      },
      "execution_count": 10,
      "outputs": []
    },
    {
      "cell_type": "code",
      "source": [
        "# Creamos una cola\n",
        "queue = multiprocessing.Queue()\n"
      ],
      "metadata": {
        "id": "lYsgbQMr9uWD"
      },
      "execution_count": 11,
      "outputs": []
    },
    {
      "cell_type": "code",
      "source": [
        "# Crear e iniciar proceso\n",
        "proceso = multiprocessing.Process(target=tarea, args=(queue,))\n",
        "proceso.start()\n",
        "proceso.join()\n",
        "mensaje = queue.get()\n",
        "print(mensaje)"
      ],
      "metadata": {
        "colab": {
          "base_uri": "https://localhost:8080/"
        },
        "id": "x1vM1IoC901a",
        "outputId": "c2c1e18b-5b89-4669-e14f-9fb39ad700b5"
      },
      "execution_count": 12,
      "outputs": [
        {
          "output_type": "stream",
          "name": "stdout",
          "text": [
            "Mensaje desde el proceso\n"
          ]
        }
      ]
    },
    {
      "cell_type": "markdown",
      "source": [
        "#Ejercicio practico"
      ],
      "metadata": {
        "id": "mm3iEoLo-aYE"
      }
    },
    {
      "cell_type": "code",
      "source": [
        "import multiprocessing"
      ],
      "metadata": {
        "id": "9ZBNQ7Vj-Elj"
      },
      "execution_count": 13,
      "outputs": []
    },
    {
      "cell_type": "code",
      "source": [
        "def calcular_suma(queue):\n",
        "  suma = sum(range(1,11))\n",
        "  queue.put(suma)"
      ],
      "metadata": {
        "id": "-e4Pfm0Z-hRj"
      },
      "execution_count": 14,
      "outputs": []
    },
    {
      "cell_type": "code",
      "source": [
        "queue = multiprocessing.Queue()"
      ],
      "metadata": {
        "id": "QClmeSLh-vt6"
      },
      "execution_count": 15,
      "outputs": []
    },
    {
      "cell_type": "code",
      "source": [
        "proceso1 = multiprocessing.Process(target=calcular_suma, args=(queue,))\n",
        "proceso2 = multiprocessing.Process(target=calcular_suma, args=(queue,))\n",
        "proceso1.start()\n",
        "proceso2.start()\n",
        "proceso1.join()\n",
        "proceso2.join()\n",
        "# Obtenemos resultados de la cola\n",
        "resultado1 = queue.get()\n",
        "resultado2 = queue.get()\n",
        "print(f\"Resultado 1: {resultado1}\")\n",
        "print(f\"Resultado 2: {resultado2}\")"
      ],
      "metadata": {
        "colab": {
          "base_uri": "https://localhost:8080/"
        },
        "id": "11Yuxeiz-xpt",
        "outputId": "f5612179-0487-43d2-af39-f229c381d1cf"
      },
      "execution_count": 16,
      "outputs": [
        {
          "output_type": "stream",
          "name": "stdout",
          "text": [
            "Resultado 1: 55\n",
            "Resultado 2: 55\n"
          ]
        }
      ]
    },
    {
      "cell_type": "code",
      "source": [],
      "metadata": {
        "id": "C6ubyIme_Bny"
      },
      "execution_count": null,
      "outputs": []
    }
  ]
}