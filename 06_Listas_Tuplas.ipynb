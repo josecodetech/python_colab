{
  "nbformat": 4,
  "nbformat_minor": 0,
  "metadata": {
    "colab": {
      "provenance": []
    },
    "kernelspec": {
      "name": "python3",
      "display_name": "Python 3"
    },
    "language_info": {
      "name": "python"
    }
  },
  "cells": [
    {
      "cell_type": "markdown",
      "source": [
        "#Listas"
      ],
      "metadata": {
        "id": "fhv55htYguNX"
      }
    },
    {
      "cell_type": "code",
      "source": [
        "# Crear una lista\n",
        "mi_lista = [1,7,3,2,2,12]\n",
        "print(\"Lista: \", mi_lista)"
      ],
      "metadata": {
        "colab": {
          "base_uri": "https://localhost:8080/"
        },
        "id": "ZeTLXUmZgwCU",
        "outputId": "f81cb4af-a67a-431c-9450-8aabbc7ea56b"
      },
      "execution_count": 6,
      "outputs": [
        {
          "output_type": "stream",
          "name": "stdout",
          "text": [
            "Lista:  [1, 7, 3, 2, 2, 12]\n"
          ]
        }
      ]
    },
    {
      "cell_type": "code",
      "source": [
        "type(mi_lista)"
      ],
      "metadata": {
        "colab": {
          "base_uri": "https://localhost:8080/"
        },
        "id": "f80WUPtkkvlt",
        "outputId": "c9517395-5a49-42ca-f5c2-cb9fc31161bf"
      },
      "execution_count": 35,
      "outputs": [
        {
          "output_type": "execute_result",
          "data": {
            "text/plain": [
              "list"
            ]
          },
          "metadata": {},
          "execution_count": 35
        }
      ]
    },
    {
      "cell_type": "code",
      "source": [
        "# Acceder a elementos de la lista\n",
        "primer_elemento = mi_lista[0]\n",
        "segundo_elemento = mi_lista[1]\n",
        "ultimo_elemento = mi_lista[-1]\n",
        "ultimo_elemento2 = mi_lista[5]\n",
        "print(\"Primer elemento: \", primer_elemento)\n",
        "print(\"Segundo elemento: \", segundo_elemento)\n",
        "print(\"Último elemento: \", ultimo_elemento)\n",
        "print(\"Último elemento: \", ultimo_elemento2)\n"
      ],
      "metadata": {
        "colab": {
          "base_uri": "https://localhost:8080/"
        },
        "id": "hGLMfcj4hMdl",
        "outputId": "f7d23fd3-a703-4577-f630-df7ecfa4919b"
      },
      "execution_count": 7,
      "outputs": [
        {
          "output_type": "stream",
          "name": "stdout",
          "text": [
            "Primer elemento:  1\n",
            "Segundo elemento:  7\n",
            "Último elemento:  12\n",
            "Último elemento:  12\n"
          ]
        }
      ]
    },
    {
      "cell_type": "code",
      "source": [
        "# Modificar elementos de la lista\n",
        "mi_lista[1] = 23\n",
        "print(\"Lista modificada: \", mi_lista)"
      ],
      "metadata": {
        "colab": {
          "base_uri": "https://localhost:8080/"
        },
        "id": "ort_cbhph-kX",
        "outputId": "0e9ef704-2ce2-4d84-cfbb-91443dff690c"
      },
      "execution_count": 8,
      "outputs": [
        {
          "output_type": "stream",
          "name": "stdout",
          "text": [
            "Lista modificada:  [1, 23, 3, 2, 2, 12]\n"
          ]
        }
      ]
    },
    {
      "cell_type": "code",
      "source": [
        "# Metodos comunes para listas\n",
        "# mi_lista.append(6)\n",
        "# mi_lista.append(5)\n",
        "# mi_lista.remove(5)\n",
        "# mi_lista.pop()\n",
        "mi_lista.sort()\n",
        "print(\"Lista modificada: \", mi_lista)"
      ],
      "metadata": {
        "colab": {
          "base_uri": "https://localhost:8080/"
        },
        "id": "c6xhM9JeitNM",
        "outputId": "77639b54-594a-4096-9e50-d5b23dd585c8"
      },
      "execution_count": 32,
      "outputs": [
        {
          "output_type": "stream",
          "name": "stdout",
          "text": [
            "Lista modificada:  [1, 2, 23]\n"
          ]
        }
      ]
    },
    {
      "cell_type": "markdown",
      "source": [
        "#Tuplas"
      ],
      "metadata": {
        "id": "JcPQeb_ckTXe"
      }
    },
    {
      "cell_type": "code",
      "source": [
        "# Crear una tupla\n",
        "mi_tupla = (1,21,3,41,25)\n",
        "print(\"Tupla: \", mi_tupla)"
      ],
      "metadata": {
        "colab": {
          "base_uri": "https://localhost:8080/"
        },
        "id": "mOyq2wzdjOhM",
        "outputId": "bf2540ac-e788-443e-bf7e-8e6eabfa1e97"
      },
      "execution_count": 40,
      "outputs": [
        {
          "output_type": "stream",
          "name": "stdout",
          "text": [
            "Tupla:  (1, 21, 3, 41, 25)\n"
          ]
        }
      ]
    },
    {
      "cell_type": "code",
      "source": [
        "type(mi_tupla)"
      ],
      "metadata": {
        "colab": {
          "base_uri": "https://localhost:8080/"
        },
        "id": "Ono-hLXKklTg",
        "outputId": "d178db3a-2803-4128-e2fb-a2535c8dde57"
      },
      "execution_count": 34,
      "outputs": [
        {
          "output_type": "execute_result",
          "data": {
            "text/plain": [
              "tuple"
            ]
          },
          "metadata": {},
          "execution_count": 34
        }
      ]
    },
    {
      "cell_type": "code",
      "source": [
        "# Acceder a elementos de la tupla\n",
        "primer_elemento = mi_tupla[0]\n",
        "segundo_elemento = mi_tupla[1]\n",
        "ultimo_elemento = mi_tupla[-1]\n",
        "print(\"Primer elemento: \", primer_elemento)\n",
        "print(\"Segundo elemento: \", segundo_elemento)\n",
        "print(\"Último elemento: \", ultimo_elemento)"
      ],
      "metadata": {
        "colab": {
          "base_uri": "https://localhost:8080/"
        },
        "id": "gnQ4098WkoGR",
        "outputId": "fa719f28-2174-455e-d9cc-5ea4187b6a90"
      },
      "execution_count": 41,
      "outputs": [
        {
          "output_type": "stream",
          "name": "stdout",
          "text": [
            "Primer elemento:  1\n",
            "Segundo elemento:  21\n",
            "Último elemento:  25\n"
          ]
        }
      ]
    },
    {
      "cell_type": "code",
      "source": [
        "# Da error porque no podemos modificar los valores de una tupla\n",
        "# mi_tupla[1] = 23"
      ],
      "metadata": {
        "id": "G2sR3mySk_Z8"
      },
      "execution_count": 43,
      "outputs": []
    },
    {
      "cell_type": "markdown",
      "source": [
        "# Ejercicio practico"
      ],
      "metadata": {
        "id": "hiNH20IBl0mk"
      }
    },
    {
      "cell_type": "code",
      "source": [
        "# Crear una lista\n",
        "mi_lista = [10,20,30,40,50]\n",
        "print(\"Lista: \", mi_lista)"
      ],
      "metadata": {
        "colab": {
          "base_uri": "https://localhost:8080/"
        },
        "id": "HJoETeGblEq_",
        "outputId": "64095082-5372-4890-fb70-5b783ba2d09f"
      },
      "execution_count": 45,
      "outputs": [
        {
          "output_type": "stream",
          "name": "stdout",
          "text": [
            "Lista:  [10, 20, 30, 40, 50]\n"
          ]
        }
      ]
    },
    {
      "cell_type": "code",
      "source": [
        "# Modificar elemento\n",
        "mi_lista[2] = 21\n",
        "print(\"Lista modificada: \", mi_lista)"
      ],
      "metadata": {
        "colab": {
          "base_uri": "https://localhost:8080/"
        },
        "id": "ItShXrWkl2gn",
        "outputId": "6ab29e03-fcfd-4158-80c6-b4f172e6e99b"
      },
      "execution_count": 46,
      "outputs": [
        {
          "output_type": "stream",
          "name": "stdout",
          "text": [
            "Lista modificada:  [10, 20, 21, 40, 50]\n"
          ]
        }
      ]
    },
    {
      "cell_type": "code",
      "source": [
        "# Usar metodos de lista\n",
        "mi_lista.append(55)\n",
        "mi_lista.remove(40)\n",
        "print(\"Lista modificada: \", mi_lista)"
      ],
      "metadata": {
        "colab": {
          "base_uri": "https://localhost:8080/"
        },
        "id": "e-5A5q_ymZvJ",
        "outputId": "f7a72d10-c474-4312-d6d1-149b963295b0"
      },
      "execution_count": 47,
      "outputs": [
        {
          "output_type": "stream",
          "name": "stdout",
          "text": [
            "Lista modificada:  [10, 20, 21, 50, 55]\n"
          ]
        }
      ]
    },
    {
      "cell_type": "code",
      "source": [
        "# Crear tupla\n",
        "mi_tupla = (100,200,300,400,500)\n",
        "print(\"Tupla: \", mi_tupla)"
      ],
      "metadata": {
        "colab": {
          "base_uri": "https://localhost:8080/"
        },
        "id": "uLrCo1UKm5FR",
        "outputId": "213029f4-790d-4d12-8c08-5084ff05f09a"
      },
      "execution_count": 48,
      "outputs": [
        {
          "output_type": "stream",
          "name": "stdout",
          "text": [
            "Tupla:  (100, 200, 300, 400, 500)\n"
          ]
        }
      ]
    },
    {
      "cell_type": "code",
      "source": [
        "# Accedemos a segundo y penultimo elemento\n",
        "segundo_elemento = mi_tupla[1]\n",
        "penultimo_elemento = mi_tupla[-2]\n",
        "print(\"Segundo elemento: \", segundo_elemento)\n",
        "print(\"Penultimo elemento: \", penultimo_elemento)"
      ],
      "metadata": {
        "colab": {
          "base_uri": "https://localhost:8080/"
        },
        "id": "FMEtBHD6nMad",
        "outputId": "203208d2-e479-4983-bda0-e0b31d69a7b2"
      },
      "execution_count": 49,
      "outputs": [
        {
          "output_type": "stream",
          "name": "stdout",
          "text": [
            "Segundo elemento:  200\n",
            "Penultimo elemento:  400\n"
          ]
        }
      ]
    },
    {
      "cell_type": "code",
      "source": [],
      "metadata": {
        "id": "G1dJIfjcndrA"
      },
      "execution_count": null,
      "outputs": []
    }
  ]
}