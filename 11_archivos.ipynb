{
  "nbformat": 4,
  "nbformat_minor": 0,
  "metadata": {
    "colab": {
      "provenance": []
    },
    "kernelspec": {
      "name": "python3",
      "display_name": "Python 3"
    },
    "language_info": {
      "name": "python"
    }
  },
  "cells": [
    {
      "cell_type": "markdown",
      "source": [
        "#Archivos"
      ],
      "metadata": {
        "id": "kOJY1XOb-o4K"
      }
    },
    {
      "cell_type": "code",
      "execution_count": 2,
      "metadata": {
        "id": "uoJA0956-l2K"
      },
      "outputs": [],
      "source": [
        "# Abrir archivo en modo escritura (ademas lo crea si no existe)\n",
        "archivo = open(\"mi_archivo.txt\",\"w\")"
      ]
    },
    {
      "cell_type": "code",
      "source": [
        "archivo.close()"
      ],
      "metadata": {
        "id": "Urq2LllB-ql6"
      },
      "execution_count": 4,
      "outputs": []
    },
    {
      "cell_type": "code",
      "source": [
        "# \"r\" lectura, el archivo debe existir\n",
        "# \"w\" escritura, crea el archivo o sobreescribe si existe\n",
        "# \"a\" añadir, agrega datos al final del archivo\n",
        "# \"r+\" lectura y escritura"
      ],
      "metadata": {
        "id": "oA6EhAfF_pAN"
      },
      "execution_count": 5,
      "outputs": []
    },
    {
      "cell_type": "code",
      "source": [
        "# Escribir archivos\n",
        "archivo = open(\"mi_archivo.txt\",\"w\")\n",
        "archivo.write(\"Hola, mundo\\n\")\n",
        "archivo.close()"
      ],
      "metadata": {
        "id": "NDyOItTP_9r5"
      },
      "execution_count": 6,
      "outputs": []
    },
    {
      "cell_type": "code",
      "source": [
        "# Añadir mas texto a fichero existente\n",
        "archivo = open(\"mi_archivo.txt\",\"a\")\n",
        "archivo.write(\"Añadiendo nueva linea\\n\")\n",
        "archivo.close()"
      ],
      "metadata": {
        "id": "2TGkStKvAcXt"
      },
      "execution_count": 7,
      "outputs": []
    },
    {
      "cell_type": "code",
      "source": [
        "# Leer de archivo\n",
        "archivo = open(\"mi_archivo.txt\", \"r\")\n",
        "contenido = archivo.read()\n",
        "print(contenido)\n",
        "archivo.close()"
      ],
      "metadata": {
        "colab": {
          "base_uri": "https://localhost:8080/"
        },
        "id": "eqDwJN-SAt80",
        "outputId": "473c75a2-6eae-4267-cb04-e029149823fa"
      },
      "execution_count": 8,
      "outputs": [
        {
          "output_type": "stream",
          "name": "stdout",
          "text": [
            "Hola, mundo\n",
            "Añadiendo nueva linea\n",
            "\n"
          ]
        }
      ]
    },
    {
      "cell_type": "code",
      "source": [
        "# Escribir en fichero csv\n",
        "import csv\n",
        "with open(\"datos.csv\", \"w\", newline='') as archivo:\n",
        "  escritor = csv.writer(archivo)\n",
        "  escritor.writerow([\"Nombre\", \"Edad\", \"Ciudad\"])\n",
        "  escritor.writerow([\"Juan\", 25, \"Madrid\"])\n",
        "  escritor.writerow([\"Maria\", 30, \"Barcelona\"])"
      ],
      "metadata": {
        "id": "zMQQW3g8BFJM"
      },
      "execution_count": 10,
      "outputs": []
    },
    {
      "cell_type": "code",
      "source": [
        "# Leer archivo csv\n",
        "with open(\"datos.csv\", \"r\") as archivo:\n",
        "  lector = csv.reader(archivo)\n",
        "  for fila in lector:\n",
        "    print(fila)"
      ],
      "metadata": {
        "colab": {
          "base_uri": "https://localhost:8080/"
        },
        "id": "_IE-u-9wCWvV",
        "outputId": "769c599d-be90-4b55-8b15-0be553d8c260"
      },
      "execution_count": 11,
      "outputs": [
        {
          "output_type": "stream",
          "name": "stdout",
          "text": [
            "['Nombre', 'Edad', 'Ciudad']\n",
            "['Juan', '25', 'Madrid']\n",
            "['Maria', '30', 'Barcelona']\n"
          ]
        }
      ]
    },
    {
      "cell_type": "markdown",
      "source": [
        "#Ejercicio practico"
      ],
      "metadata": {
        "id": "hyGroNH9Dc6_"
      }
    },
    {
      "cell_type": "code",
      "source": [
        "# Crear y escribir en fichero texto\n",
        "with open(\"notas.txt\",\"w\") as archivo:\n",
        "  archivo.write(\"Primera linea de texto\\n\")\n",
        "  archivo.write(\"Segunda linea de texto\\n\")\n"
      ],
      "metadata": {
        "id": "WKxFV8TeC8uC"
      },
      "execution_count": 12,
      "outputs": []
    },
    {
      "cell_type": "code",
      "source": [
        "# Leer y mostrar contenido\n",
        "with open(\"notas.txt\", \"r\") as archivo:\n",
        "  contenido = archivo.read()\n",
        "  print(\"Contenido de fichero notas.txt:\")\n",
        "  print(contenido)"
      ],
      "metadata": {
        "colab": {
          "base_uri": "https://localhost:8080/"
        },
        "id": "-o2jeEiCDens",
        "outputId": "0c7c8630-0185-47cd-9291-af662ddf54b8"
      },
      "execution_count": 13,
      "outputs": [
        {
          "output_type": "stream",
          "name": "stdout",
          "text": [
            "Contenido de fichero notas.txt:\n",
            "Primera linea de texto\n",
            "Segunda linea de texto\n",
            "\n"
          ]
        }
      ]
    },
    {
      "cell_type": "code",
      "source": [
        "# Crear y escribir fichero csv\n",
        "import csv\n",
        "with open(\"estudiantes.csv\", \"w\", newline='') as archivo:\n",
        "  escritor = csv.writer(archivo)\n",
        "  escritor.writerow([\"Nombre\", \"Edad\"])\n",
        "  escritor.writerow([\"Ana\", 20])\n",
        "  escritor.writerow([\"Luis\", 22])\n",
        "  escritor.writerow([\"Carlos\", 21])"
      ],
      "metadata": {
        "id": "2YzId_4NEHtt"
      },
      "execution_count": 14,
      "outputs": []
    },
    {
      "cell_type": "code",
      "source": [
        "# Leer y mostrar del fichero csv\n",
        "with open(\"estudiantes.csv\", \"r\") as archivo:\n",
        "  lector = csv.reader(archivo)\n",
        "  print(\"Contenido de estudiantes:\")\n",
        "  for fila in lector:\n",
        "    print(fila)"
      ],
      "metadata": {
        "colab": {
          "base_uri": "https://localhost:8080/"
        },
        "id": "UOa-5R1gExaV",
        "outputId": "a716e9d8-a37e-44b4-c572-d8a9c2c66ce1"
      },
      "execution_count": 15,
      "outputs": [
        {
          "output_type": "stream",
          "name": "stdout",
          "text": [
            "Contenido de estudiantes:\n",
            "['Nombre', 'Edad']\n",
            "['Ana', '20']\n",
            "['Luis', '22']\n",
            "['Carlos', '21']\n"
          ]
        }
      ]
    },
    {
      "cell_type": "code",
      "source": [],
      "metadata": {
        "id": "ct8EiVFRFFYi"
      },
      "execution_count": null,
      "outputs": []
    }
  ]
}