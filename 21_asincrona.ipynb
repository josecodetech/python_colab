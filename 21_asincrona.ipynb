{
  "nbformat": 4,
  "nbformat_minor": 0,
  "metadata": {
    "colab": {
      "provenance": []
    },
    "kernelspec": {
      "name": "python3",
      "display_name": "Python 3"
    },
    "language_info": {
      "name": "python"
    }
  },
  "cells": [
    {
      "cell_type": "markdown",
      "source": [
        "#Programacion asincrona"
      ],
      "metadata": {
        "id": "LStEPHxAl1bj"
      }
    },
    {
      "cell_type": "code",
      "execution_count": 1,
      "metadata": {
        "id": "PtdauGFMlyce"
      },
      "outputs": [],
      "source": [
        "import asyncio"
      ]
    },
    {
      "cell_type": "code",
      "source": [
        "# Define funcion asincrona\n",
        "async def saludar():\n",
        "  print(\"Hola...\")\n",
        "  await asyncio.sleep(3)\n",
        "  print(\"...mundo!\")"
      ],
      "metadata": {
        "id": "r3g45x3zl4aT"
      },
      "execution_count": 7,
      "outputs": []
    },
    {
      "cell_type": "code",
      "source": [
        "# Ejecutar funcion asincrona\n",
        "await saludar()"
      ],
      "metadata": {
        "colab": {
          "base_uri": "https://localhost:8080/"
        },
        "id": "bCM9YaeKmcQg",
        "outputId": "412f5e11-1087-43fe-d983-6e44beedd5f1"
      },
      "execution_count": 8,
      "outputs": [
        {
          "output_type": "stream",
          "name": "stdout",
          "text": [
            "Hola...\n",
            "...mundo!\n"
          ]
        }
      ]
    },
    {
      "cell_type": "markdown",
      "source": [
        "#Multiples tareas asincronas"
      ],
      "metadata": {
        "id": "zJr0tedGnjtr"
      }
    },
    {
      "cell_type": "code",
      "source": [
        "import asyncio"
      ],
      "metadata": {
        "id": "jwhoxIwMmiWL"
      },
      "execution_count": 9,
      "outputs": []
    },
    {
      "cell_type": "code",
      "source": [
        "# Definimos funciones asincronas\n",
        "async def tarea1():\n",
        "  for i in range(6):\n",
        "    print(f\"Tarea 1 - iteracion {i}\")\n",
        "    await asyncio.sleep(1)\n",
        "async def tarea2():\n",
        "  for i in range(6):\n",
        "    print(f\"Tarea 2 - iteracion {i}\")\n",
        "    await asyncio.sleep(1)\n"
      ],
      "metadata": {
        "id": "kikyuOjinmZ5"
      },
      "execution_count": 13,
      "outputs": []
    },
    {
      "cell_type": "code",
      "source": [
        "# Ejecutamos simultaneamente\n",
        "async def main():\n",
        "  await asyncio.gather(tarea1(), tarea2())"
      ],
      "metadata": {
        "id": "jkUODCaPoM9D"
      },
      "execution_count": 14,
      "outputs": []
    },
    {
      "cell_type": "code",
      "source": [
        "await(main())"
      ],
      "metadata": {
        "colab": {
          "base_uri": "https://localhost:8080/"
        },
        "id": "VJfWR52RoXmm",
        "outputId": "532f736a-6636-47af-e50b-6228feeafc30"
      },
      "execution_count": 15,
      "outputs": [
        {
          "output_type": "stream",
          "name": "stdout",
          "text": [
            "Tarea 1 - iteracion 0\n",
            "Tarea 2 - iteracion 0\n",
            "Tarea 1 - iteracion 1\n",
            "Tarea 2 - iteracion 1\n",
            "Tarea 1 - iteracion 2\n",
            "Tarea 2 - iteracion 2\n",
            "Tarea 1 - iteracion 3\n",
            "Tarea 2 - iteracion 3\n",
            "Tarea 1 - iteracion 4\n",
            "Tarea 2 - iteracion 4\n",
            "Tarea 1 - iteracion 5\n",
            "Tarea 2 - iteracion 5\n"
          ]
        }
      ]
    },
    {
      "cell_type": "markdown",
      "source": [
        "#Crear y usar Futuras"
      ],
      "metadata": {
        "id": "6GXu_79oo3UF"
      }
    },
    {
      "cell_type": "code",
      "source": [
        "import asyncio"
      ],
      "metadata": {
        "id": "RIsvJrXdoegx"
      },
      "execution_count": 16,
      "outputs": []
    },
    {
      "cell_type": "code",
      "source": [
        "async def calcular():\n",
        "  await asyncio.sleep(1)\n",
        "  return 2"
      ],
      "metadata": {
        "id": "a3SEL1R3o6EN"
      },
      "execution_count": 20,
      "outputs": []
    },
    {
      "cell_type": "code",
      "source": [
        "async def main():\n",
        "  futura = asyncio.create_task(calcular())\n",
        "  resultado = await futura\n",
        "  print(f\"Resultado: {resultado}\")"
      ],
      "metadata": {
        "id": "IrwwZtnFpO0d"
      },
      "execution_count": 21,
      "outputs": []
    },
    {
      "cell_type": "code",
      "source": [
        "await(main())"
      ],
      "metadata": {
        "colab": {
          "base_uri": "https://localhost:8080/"
        },
        "id": "93UzNTS4pe6Z",
        "outputId": "a78b26d4-7385-446a-a317-6dcac73c9b00"
      },
      "execution_count": 22,
      "outputs": [
        {
          "output_type": "stream",
          "name": "stdout",
          "text": [
            "Resultado: 2\n"
          ]
        }
      ]
    },
    {
      "cell_type": "markdown",
      "source": [
        "#Ejercicio practico"
      ],
      "metadata": {
        "id": "zlXdWEMspz4D"
      }
    },
    {
      "cell_type": "code",
      "source": [
        "import asyncio"
      ],
      "metadata": {
        "id": "8Xm89c0Rpjyf"
      },
      "execution_count": 23,
      "outputs": []
    },
    {
      "cell_type": "code",
      "source": [
        "async def tarea1():\n",
        "  for i in range(3):\n",
        "    print(f\"Tarea 1 - iteracion {i}\")\n",
        "    await asyncio.sleep(2)\n",
        "async def tarea2():\n",
        "  for i in range(3):\n",
        "    print(f\"Tarea 2 - ireracion {i}\")\n",
        "    await asyncio.sleep(3)"
      ],
      "metadata": {
        "id": "U6iny1osp2T-"
      },
      "execution_count": 24,
      "outputs": []
    },
    {
      "cell_type": "code",
      "source": [
        "async def main():\n",
        "  await asyncio.gather(tarea1(), tarea2())\n",
        "  print(\"Todas las tareas han terminado\")"
      ],
      "metadata": {
        "id": "JXYuevzbqchh"
      },
      "execution_count": 25,
      "outputs": []
    },
    {
      "cell_type": "code",
      "source": [
        "await(main())"
      ],
      "metadata": {
        "colab": {
          "base_uri": "https://localhost:8080/"
        },
        "id": "8z5YhH2JqmqQ",
        "outputId": "78e74360-702c-4a56-a5b2-90f655fcab41"
      },
      "execution_count": 26,
      "outputs": [
        {
          "output_type": "stream",
          "name": "stdout",
          "text": [
            "Tarea 1 - iteracion 0\n",
            "Tarea 2 - ireracion 0\n",
            "Tarea 1 - iteracion 1\n",
            "Tarea 2 - ireracion 1\n",
            "Tarea 1 - iteracion 2\n",
            "Tarea 2 - ireracion 2\n",
            "Todas las tareas han terminado\n"
          ]
        }
      ]
    },
    {
      "cell_type": "code",
      "source": [],
      "metadata": {
        "id": "9AUOkjtjqwUV"
      },
      "execution_count": null,
      "outputs": []
    }
  ]
}