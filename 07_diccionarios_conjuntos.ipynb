{
  "nbformat": 4,
  "nbformat_minor": 0,
  "metadata": {
    "colab": {
      "provenance": []
    },
    "kernelspec": {
      "name": "python3",
      "display_name": "Python 3"
    },
    "language_info": {
      "name": "python"
    }
  },
  "cells": [
    {
      "cell_type": "markdown",
      "source": [
        "#Diccionarios"
      ],
      "metadata": {
        "id": "2-ZgeAOTbIGL"
      }
    },
    {
      "cell_type": "code",
      "execution_count": 1,
      "metadata": {
        "colab": {
          "base_uri": "https://localhost:8080/"
        },
        "id": "PHZjVQZ8bD92",
        "outputId": "88f76992-373f-4965-ba84-6872fc0520c4"
      },
      "outputs": [
        {
          "output_type": "stream",
          "name": "stdout",
          "text": [
            "Diccionario:  {'nombre': 'Jose', 'edad': 52, 'ciudad': 'Sevilla'}\n"
          ]
        }
      ],
      "source": [
        "# Crear un diccionario\n",
        "mi_diccionario = {\n",
        "    \"nombre\": \"Jose\",\n",
        "    \"edad\": 52,\n",
        "    \"ciudad\": \"Sevilla\"\n",
        "}\n",
        "print(\"Diccionario: \", mi_diccionario)"
      ]
    },
    {
      "cell_type": "code",
      "source": [
        "type(mi_diccionario)"
      ],
      "metadata": {
        "colab": {
          "base_uri": "https://localhost:8080/"
        },
        "id": "CRcbnCUrbzVv",
        "outputId": "9503372f-0976-472e-f904-e32f912310c5"
      },
      "execution_count": 2,
      "outputs": [
        {
          "output_type": "execute_result",
          "data": {
            "text/plain": [
              "dict"
            ]
          },
          "metadata": {},
          "execution_count": 2
        }
      ]
    },
    {
      "cell_type": "code",
      "source": [
        "# Acceso a elementos del diccionario\n",
        "nombre = mi_diccionario[\"nombre\"]\n",
        "edad = mi_diccionario[\"edad\"]\n",
        "print(\"Nombre: \", nombre)\n",
        "print(\"Edad: \", edad)"
      ],
      "metadata": {
        "colab": {
          "base_uri": "https://localhost:8080/"
        },
        "id": "DieDNg5ib3aM",
        "outputId": "72ddfdbb-b113-41a8-e8a4-7fa8fc8e62d5"
      },
      "execution_count": 3,
      "outputs": [
        {
          "output_type": "stream",
          "name": "stdout",
          "text": [
            "Nombre:  Jose\n",
            "Edad:  52\n"
          ]
        }
      ]
    },
    {
      "cell_type": "code",
      "source": [
        "# Modificar elementos\n",
        "mi_diccionario[\"edad\"] = 34\n",
        "print(\"Edad modificada: \", mi_diccionario[\"edad\"])"
      ],
      "metadata": {
        "colab": {
          "base_uri": "https://localhost:8080/"
        },
        "id": "58oBokVqcWmz",
        "outputId": "fe2e9125-1204-4bbf-e75b-f5f940ffdff6"
      },
      "execution_count": 4,
      "outputs": [
        {
          "output_type": "stream",
          "name": "stdout",
          "text": [
            "Edad modificada:  34\n"
          ]
        }
      ]
    },
    {
      "cell_type": "code",
      "source": [
        "# Metodos mas comunes en diccionarios\n",
        "mi_diccionario[\"pais\"] = \"España\"\n",
        "edad = mi_diccionario.pop(\"edad\")\n",
        "claves = mi_diccionario.keys()\n",
        "valores = mi_diccionario.values()\n",
        "print(\"Diccionario modificado: \", mi_diccionario)\n",
        "print(\"Claves: \", claves)\n",
        "print(\"Valores: \", valores)"
      ],
      "metadata": {
        "colab": {
          "base_uri": "https://localhost:8080/"
        },
        "id": "GqYiadn_cnDX",
        "outputId": "88710028-7438-41eb-8fa9-222b315f2193"
      },
      "execution_count": 5,
      "outputs": [
        {
          "output_type": "stream",
          "name": "stdout",
          "text": [
            "Diccionario modificado:  {'nombre': 'Jose', 'ciudad': 'Sevilla', 'pais': 'España'}\n",
            "Claves:  dict_keys(['nombre', 'ciudad', 'pais'])\n",
            "Valores:  dict_values(['Jose', 'Sevilla', 'España'])\n"
          ]
        }
      ]
    },
    {
      "cell_type": "markdown",
      "source": [
        "#Conjuntos"
      ],
      "metadata": {
        "id": "I7NAmm2Qd4ri"
      }
    },
    {
      "cell_type": "code",
      "source": [
        "# Crear conjunto\n",
        "mi_conjunto = {1, 2, 3, 4, 5}\n",
        "print(\"Conjunto: \", mi_conjunto)"
      ],
      "metadata": {
        "colab": {
          "base_uri": "https://localhost:8080/"
        },
        "id": "LgTuxOtBdjn7",
        "outputId": "dfea6d1b-85f6-446a-e15a-564847efb125"
      },
      "execution_count": 6,
      "outputs": [
        {
          "output_type": "stream",
          "name": "stdout",
          "text": [
            "Conjunto:  {1, 2, 3, 4, 5}\n"
          ]
        }
      ]
    },
    {
      "cell_type": "code",
      "source": [
        "type(mi_conjunto)"
      ],
      "metadata": {
        "colab": {
          "base_uri": "https://localhost:8080/"
        },
        "id": "XPerMC58eMSQ",
        "outputId": "d0e2925b-9fc2-4ccf-e8f4-305fa5b4009d"
      },
      "execution_count": 7,
      "outputs": [
        {
          "output_type": "execute_result",
          "data": {
            "text/plain": [
              "set"
            ]
          },
          "metadata": {},
          "execution_count": 7
        }
      ]
    },
    {
      "cell_type": "code",
      "source": [
        "# Operaciones con conjuntos\n",
        "otro_conjunto = {3, 4, 5, 6, 7}\n"
      ],
      "metadata": {
        "id": "bj8NHdgSeN3J"
      },
      "execution_count": 8,
      "outputs": []
    },
    {
      "cell_type": "code",
      "source": [
        "# Union\n",
        "union = mi_conjunto | otro_conjunto\n",
        "print(\"Union: \", union)"
      ],
      "metadata": {
        "colab": {
          "base_uri": "https://localhost:8080/"
        },
        "id": "8vUbTIr4ebvk",
        "outputId": "cabe45a8-25a3-41aa-f7b7-da17f4c7b7ba"
      },
      "execution_count": 9,
      "outputs": [
        {
          "output_type": "stream",
          "name": "stdout",
          "text": [
            "Union:  {1, 2, 3, 4, 5, 6, 7}\n"
          ]
        }
      ]
    },
    {
      "cell_type": "code",
      "source": [
        "# Interseccion\n",
        "interseccion = mi_conjunto & otro_conjunto\n",
        "print(\"Interseccion: \", interseccion)"
      ],
      "metadata": {
        "colab": {
          "base_uri": "https://localhost:8080/"
        },
        "id": "RNiHFJM9ei93",
        "outputId": "be23bae3-879e-4522-96a0-7dcc3d849d39"
      },
      "execution_count": 10,
      "outputs": [
        {
          "output_type": "stream",
          "name": "stdout",
          "text": [
            "Interseccion:  {3, 4, 5}\n"
          ]
        }
      ]
    },
    {
      "cell_type": "code",
      "source": [
        "# Diferencia\n",
        "diferencia = mi_conjunto - otro_conjunto\n",
        "print(\"Diferencia: \", diferencia)"
      ],
      "metadata": {
        "colab": {
          "base_uri": "https://localhost:8080/"
        },
        "id": "5LQBzLm4e2qo",
        "outputId": "e52a702e-3162-40e8-fcf7-95c5895a7176"
      },
      "execution_count": 11,
      "outputs": [
        {
          "output_type": "stream",
          "name": "stdout",
          "text": [
            "Diferencia:  {1, 2}\n"
          ]
        }
      ]
    },
    {
      "cell_type": "code",
      "source": [
        "# Metodos comunes\n",
        "mi_conjunto.add(10)\n",
        "mi_conjunto.remove(8)\n",
        "mi_conjunto.update([71,8,9])\n",
        "mi_conjunto.discard(25)\n",
        "print(\"Conjunto modificado: \", mi_conjunto)"
      ],
      "metadata": {
        "colab": {
          "base_uri": "https://localhost:8080/"
        },
        "id": "0Mt_8kQbfBtV",
        "outputId": "b5e24a13-d3a7-4108-db80-f4938c205c55"
      },
      "execution_count": 17,
      "outputs": [
        {
          "output_type": "stream",
          "name": "stdout",
          "text": [
            "Conjunto modificado:  {1, 5, 7, 8, 9, 10, 71}\n"
          ]
        }
      ]
    },
    {
      "cell_type": "markdown",
      "source": [
        "#Ejercicio practico"
      ],
      "metadata": {
        "id": "A_moxoPcgkSg"
      }
    },
    {
      "cell_type": "code",
      "source": [
        "# Crea el diccionario\n",
        "diccionario = {\n",
        "    \"nombre\": \"Lucia\",\n",
        "    \"edad\": 34,\n",
        "    \"ciudad\": \"Madrid\"\n",
        "}\n",
        "print(\"Diccionario: \", diccionario)"
      ],
      "metadata": {
        "colab": {
          "base_uri": "https://localhost:8080/"
        },
        "id": "hws4WdoofkSe",
        "outputId": "f1b19922-566b-4c19-829c-ecd0ff9f3242"
      },
      "execution_count": 20,
      "outputs": [
        {
          "output_type": "stream",
          "name": "stdout",
          "text": [
            "Diccionario:  {'nombre': 'Lucia', 'edad': 34, 'ciudad': 'Madrid'}\n"
          ]
        }
      ]
    },
    {
      "cell_type": "code",
      "source": [
        "# accede y modifica\n",
        "diccionario[\"edad\"] = 42\n",
        "print(\"Edad modificada: \", diccionario[\"edad\"])"
      ],
      "metadata": {
        "colab": {
          "base_uri": "https://localhost:8080/"
        },
        "id": "iV0bF2aOgmcF",
        "outputId": "86119099-b490-41ee-bdfa-ea752eff3251"
      },
      "execution_count": 19,
      "outputs": [
        {
          "output_type": "stream",
          "name": "stdout",
          "text": [
            "Edad modificada:  42\n"
          ]
        }
      ]
    },
    {
      "cell_type": "code",
      "source": [
        "# metodos\n",
        "ciudad = diccionario.pop(\"ciudad\")\n",
        "claves = diccionario.keys()\n",
        "print(\"Diccionario modificado: \", diccionario)\n",
        "print(\"Claves: \", claves)\n",
        "print(\"Ciudad eliminada\", ciudad)"
      ],
      "metadata": {
        "colab": {
          "base_uri": "https://localhost:8080/"
        },
        "id": "YAI2Z_6phPe8",
        "outputId": "29b84b6e-5814-4d3d-bfd7-544a977dc8a7"
      },
      "execution_count": 21,
      "outputs": [
        {
          "output_type": "stream",
          "name": "stdout",
          "text": [
            "Diccionario modificado:  {'nombre': 'Lucia', 'edad': 34}\n",
            "Claves:  dict_keys(['nombre', 'edad'])\n",
            "Ciudad eliminada Madrid\n"
          ]
        }
      ]
    },
    {
      "cell_type": "code",
      "source": [
        "# Crear conjunto\n",
        "conjunto = {4,5,8,1,2,9}\n",
        "print(\"Conjunto: \", conjunto)"
      ],
      "metadata": {
        "colab": {
          "base_uri": "https://localhost:8080/"
        },
        "id": "Bbv2d6EChvoM",
        "outputId": "11a56ee6-aad3-4664-cf7e-c0db240610e0"
      },
      "execution_count": 22,
      "outputs": [
        {
          "output_type": "stream",
          "name": "stdout",
          "text": [
            "Conjunto:  {1, 2, 4, 5, 8, 9}\n"
          ]
        }
      ]
    },
    {
      "cell_type": "code",
      "source": [
        "type(conjunto)"
      ],
      "metadata": {
        "colab": {
          "base_uri": "https://localhost:8080/"
        },
        "id": "wvlMkwhyh8e9",
        "outputId": "c422216f-7760-4daf-86cc-8a1f8f1b59f0"
      },
      "execution_count": 23,
      "outputs": [
        {
          "output_type": "execute_result",
          "data": {
            "text/plain": [
              "set"
            ]
          },
          "metadata": {},
          "execution_count": 23
        }
      ]
    },
    {
      "cell_type": "code",
      "source": [
        "otro_conjunto = {51,22,3,4,5}\n",
        "print(\"Otro conjunto: \", otro_conjunto)"
      ],
      "metadata": {
        "colab": {
          "base_uri": "https://localhost:8080/"
        },
        "id": "mmJscYyNh-l-",
        "outputId": "7d08dec2-19d0-46e9-9208-c106f7274e82"
      },
      "execution_count": 24,
      "outputs": [
        {
          "output_type": "stream",
          "name": "stdout",
          "text": [
            "Otro conjunto:  {3, 4, 5, 51, 22}\n"
          ]
        }
      ]
    },
    {
      "cell_type": "code",
      "source": [
        "# Union\n",
        "union = conjunto | otro_conjunto\n",
        "print(\"Union: \", union)"
      ],
      "metadata": {
        "colab": {
          "base_uri": "https://localhost:8080/"
        },
        "id": "eP8T8tvSiGA5",
        "outputId": "fcd68bb1-0792-4d39-a632-41a8e5d5eedf"
      },
      "execution_count": 25,
      "outputs": [
        {
          "output_type": "stream",
          "name": "stdout",
          "text": [
            "Union:  {1, 2, 3, 4, 5, 8, 9, 51, 22}\n"
          ]
        }
      ]
    },
    {
      "cell_type": "code",
      "source": [
        "# Diferencia\n",
        "diferencia = conjunto - otro_conjunto\n",
        "print(\"Diferencia: \", diferencia)\n"
      ],
      "metadata": {
        "colab": {
          "base_uri": "https://localhost:8080/"
        },
        "id": "9wS-QuOaiLHp",
        "outputId": "0e437c9c-d794-4a48-e19c-e3033fa91c10"
      },
      "execution_count": 26,
      "outputs": [
        {
          "output_type": "stream",
          "name": "stdout",
          "text": [
            "Diferencia:  {8, 1, 2, 9}\n"
          ]
        }
      ]
    },
    {
      "cell_type": "code",
      "source": [],
      "metadata": {
        "id": "ScNtsdm0iTaU"
      },
      "execution_count": null,
      "outputs": []
    }
  ]
}