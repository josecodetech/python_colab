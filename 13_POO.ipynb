{
  "nbformat": 4,
  "nbformat_minor": 0,
  "metadata": {
    "colab": {
      "provenance": []
    },
    "kernelspec": {
      "name": "python3",
      "display_name": "Python 3"
    },
    "language_info": {
      "name": "python"
    }
  },
  "cells": [
    {
      "cell_type": "markdown",
      "source": [
        "#Programacion orientada a objetos"
      ],
      "metadata": {
        "id": "wXqKKs-BJsxz"
      }
    },
    {
      "cell_type": "code",
      "execution_count": 10,
      "metadata": {
        "id": "gcy7LB-ZJpl1"
      },
      "outputs": [],
      "source": [
        "# Definir una clase\n",
        "class Persona:\n",
        "    # Constructor\n",
        "    def __init__(self, nombre, edad):\n",
        "        self.nombre = nombre\n",
        "        self.edad = edad\n",
        "    def saludar(self):\n",
        "        print(\"Hola, mi nombre es \"+ self.nombre + \" y tengo \" + str(self.edad) + \" años.\")"
      ]
    },
    {
      "cell_type": "code",
      "source": [
        "# Crear objeto de la clase Persona\n",
        "persona1 = Persona(\"Ana\", 25)\n",
        "# Acceder a atributos del objeto\n",
        "print(\"Nombre:\", persona1.nombre)\n",
        "print(\"Edad:\", persona1.edad)"
      ],
      "metadata": {
        "colab": {
          "base_uri": "https://localhost:8080/"
        },
        "id": "GUdLkUzMJvu3",
        "outputId": "4b21b977-5c1c-496c-aff9-fba7db9e40e0"
      },
      "execution_count": 11,
      "outputs": [
        {
          "output_type": "stream",
          "name": "stdout",
          "text": [
            "Nombre: Ana\n",
            "Edad: 25\n"
          ]
        }
      ]
    },
    {
      "cell_type": "code",
      "source": [
        "# Llamar a metodo del objeto\n",
        "persona1.saludar()"
      ],
      "metadata": {
        "colab": {
          "base_uri": "https://localhost:8080/"
        },
        "id": "WQ0tNhYAKwEp",
        "outputId": "83f194a4-cf27-473e-bb23-f90fd2b4534b"
      },
      "execution_count": 12,
      "outputs": [
        {
          "output_type": "stream",
          "name": "stdout",
          "text": [
            "Hola, mi nombre es Ana y tengo 25 años.\n"
          ]
        }
      ]
    },
    {
      "cell_type": "code",
      "source": [
        "# Creamos otro objeto de la clase\n",
        "persona2 = Persona(\"Juan\", 30)\n",
        "persona2.saludar()"
      ],
      "metadata": {
        "colab": {
          "base_uri": "https://localhost:8080/"
        },
        "id": "In_J0Rm4L0av",
        "outputId": "56727659-7adf-4e7f-dde0-b0463a9e013a"
      },
      "execution_count": 6,
      "outputs": [
        {
          "output_type": "stream",
          "name": "stdout",
          "text": [
            "Hola, mi nombre es Juan y tengo 30 años.\n"
          ]
        }
      ]
    },
    {
      "cell_type": "code",
      "source": [
        "# Definimos una clase base o padre\n",
        "class Animal:\n",
        "  def __init__(self, nombre):\n",
        "    self.nombre = nombre\n",
        "  def hablar(self):\n",
        "    pass"
      ],
      "metadata": {
        "id": "zpdQnH_JMCSv"
      },
      "execution_count": 14,
      "outputs": []
    },
    {
      "cell_type": "code",
      "source": [
        "# Definir una clase derivada o hija\n",
        "class Perro(Animal):\n",
        "  def hablar(self):\n",
        "    print(self.nombre + \" dice: Guau!\")"
      ],
      "metadata": {
        "id": "poa-tATtNROg"
      },
      "execution_count": 15,
      "outputs": []
    },
    {
      "cell_type": "code",
      "source": [
        "# Creamos objeto de la clase hija (Perro)\n",
        "perro1 = Perro(\"Tobi\")\n",
        "perro1.hablar()"
      ],
      "metadata": {
        "colab": {
          "base_uri": "https://localhost:8080/"
        },
        "id": "9MOsrUO2NjTS",
        "outputId": "f2c0057a-0be0-422b-9b22-44b9f4768c17"
      },
      "execution_count": 16,
      "outputs": [
        {
          "output_type": "stream",
          "name": "stdout",
          "text": [
            "Tobi dice: Guau!\n"
          ]
        }
      ]
    },
    {
      "cell_type": "markdown",
      "source": [
        "#Ejercicio practico"
      ],
      "metadata": {
        "id": "rctPAQI5OTO3"
      }
    },
    {
      "cell_type": "code",
      "source": [
        "# Definir clase Vehiculo\n",
        "class Vehiculo:\n",
        "  def __init__(self, marca, modelo):\n",
        "    self.marca = marca\n",
        "    self.modelo = modelo\n",
        "  def mostrar_info(self):\n",
        "    print(\"Marca:\", self.marca)\n",
        "    print(\"Modelo:\", self.modelo)"
      ],
      "metadata": {
        "id": "ogat0T7AN-qe"
      },
      "execution_count": 17,
      "outputs": []
    },
    {
      "cell_type": "code",
      "source": [
        "# Definimos clase hija, Coche\n",
        "class Coche(Vehiculo):\n",
        "  def __init__(self, marca, modelo, puertas):\n",
        "    super().__init__(marca, modelo)\n",
        "    self.puertas = puertas\n",
        "  def mostrar_info(self):\n",
        "    super().mostrar_info()\n",
        "    print(\"Numero de puertas:\", self.puertas)"
      ],
      "metadata": {
        "id": "HmqIvss0PCss"
      },
      "execution_count": 18,
      "outputs": []
    },
    {
      "cell_type": "code",
      "source": [
        "# Creamos objeto de la clase Coche\n",
        "coche1 = Coche(\"Toyota\", \"Corolla\", 4)\n",
        "coche1.mostrar_info()"
      ],
      "metadata": {
        "colab": {
          "base_uri": "https://localhost:8080/"
        },
        "id": "myTvv9K6P8vq",
        "outputId": "2d1fee4b-c543-4cac-9f71-34bb148e6d25"
      },
      "execution_count": 19,
      "outputs": [
        {
          "output_type": "stream",
          "name": "stdout",
          "text": [
            "Marca: Toyota\n",
            "Modelo: Corolla\n",
            "Numero de puertas: 4\n"
          ]
        }
      ]
    },
    {
      "cell_type": "code",
      "source": [
        "coche2 = Coche(\"Ford\", \"Mustang\", 2)\n",
        "coche2.mostrar_info()"
      ],
      "metadata": {
        "colab": {
          "base_uri": "https://localhost:8080/"
        },
        "id": "sELEzsgdQIeG",
        "outputId": "2126e75f-9714-4571-e169-6c9a215361a1"
      },
      "execution_count": 20,
      "outputs": [
        {
          "output_type": "stream",
          "name": "stdout",
          "text": [
            "Marca: Ford\n",
            "Modelo: Mustang\n",
            "Numero de puertas: 2\n"
          ]
        }
      ]
    },
    {
      "cell_type": "code",
      "source": [],
      "metadata": {
        "id": "ETkZ3B__QQkN"
      },
      "execution_count": null,
      "outputs": []
    }
  ]
}