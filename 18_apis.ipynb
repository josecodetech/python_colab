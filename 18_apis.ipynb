{
  "nbformat": 4,
  "nbformat_minor": 0,
  "metadata": {
    "colab": {
      "provenance": []
    },
    "kernelspec": {
      "name": "python3",
      "display_name": "Python 3"
    },
    "language_info": {
      "name": "python"
    }
  },
  "cells": [
    {
      "cell_type": "markdown",
      "source": [
        "#Apis, obtener y enviar datos"
      ],
      "metadata": {
        "id": "swi4OQEaT-BK"
      }
    },
    {
      "cell_type": "code",
      "execution_count": 1,
      "metadata": {
        "colab": {
          "base_uri": "https://localhost:8080/"
        },
        "id": "KAw_YZQdT7pm",
        "outputId": "610cbde2-e555-4f9d-8221-17d0ea58f1c0"
      },
      "outputs": [
        {
          "output_type": "stream",
          "name": "stdout",
          "text": [
            "Requirement already satisfied: requests in /usr/local/lib/python3.10/dist-packages (2.32.3)\n",
            "Requirement already satisfied: charset-normalizer<4,>=2 in /usr/local/lib/python3.10/dist-packages (from requests) (3.3.2)\n",
            "Requirement already satisfied: idna<4,>=2.5 in /usr/local/lib/python3.10/dist-packages (from requests) (3.7)\n",
            "Requirement already satisfied: urllib3<3,>=1.21.1 in /usr/local/lib/python3.10/dist-packages (from requests) (2.0.7)\n",
            "Requirement already satisfied: certifi>=2017.4.17 in /usr/local/lib/python3.10/dist-packages (from requests) (2024.7.4)\n"
          ]
        }
      ],
      "source": [
        "!pip install requests"
      ]
    },
    {
      "cell_type": "code",
      "source": [
        "import requests"
      ],
      "metadata": {
        "id": "aMmJYQEAUBN5"
      },
      "execution_count": 2,
      "outputs": []
    },
    {
      "cell_type": "code",
      "source": [
        "# hacer solicitud GET\n",
        "url = \"https://api.coindesk.com/v1/bpi/currentprice.json\"\n",
        "respuesta = requests.get(url)"
      ],
      "metadata": {
        "id": "LkIUf7rnUgBN"
      },
      "execution_count": 8,
      "outputs": []
    },
    {
      "cell_type": "code",
      "source": [
        "respuesta"
      ],
      "metadata": {
        "colab": {
          "base_uri": "https://localhost:8080/"
        },
        "id": "2wuljm8gUpkP",
        "outputId": "e7eb8b54-acee-47cd-a02a-a145848fd643"
      },
      "execution_count": 4,
      "outputs": [
        {
          "output_type": "execute_result",
          "data": {
            "text/plain": [
              "<Response [200]>"
            ]
          },
          "metadata": {},
          "execution_count": 4
        }
      ]
    },
    {
      "cell_type": "code",
      "source": [
        "# verificar el estado de respuesta\n",
        "if respuesta.status_code == 200:\n",
        "  datos = respuesta.json()\n",
        "  print(datos)\n",
        "else:\n",
        "  print(\"Error al hacer la solicitud\", respuesta.status_code)"
      ],
      "metadata": {
        "colab": {
          "base_uri": "https://localhost:8080/"
        },
        "id": "8B5G0fGVUrAe",
        "outputId": "93fd8777-032f-488a-fe7e-33bb3eb510bb"
      },
      "execution_count": 11,
      "outputs": [
        {
          "output_type": "stream",
          "name": "stdout",
          "text": [
            "{'time': {'updated': 'Aug 27, 2024 05:34:17 UTC', 'updatedISO': '2024-08-27T05:34:17+00:00', 'updateduk': 'Aug 27, 2024 at 06:34 BST'}, 'disclaimer': 'This data was produced from the CoinDesk Bitcoin Price Index (USD). Non-USD currency data converted using hourly conversion rate from openexchangerates.org', 'chartName': 'Bitcoin', 'bpi': {'USD': {'code': 'USD', 'symbol': '&#36;', 'rate': '63,169.733', 'description': 'United States Dollar', 'rate_float': 63169.733}, 'GBP': {'code': 'GBP', 'symbol': '&pound;', 'rate': '47,880.51', 'description': 'British Pound Sterling', 'rate_float': 47880.5098}, 'EUR': {'code': 'EUR', 'symbol': '&euro;', 'rate': '56,561.295', 'description': 'Euro', 'rate_float': 56561.2945}}}\n"
          ]
        }
      ]
    },
    {
      "cell_type": "code",
      "source": [
        "# trabajar con los datos json\n",
        "respuesta = requests.get(url)\n",
        "if respuesta.status_code == 200:\n",
        "  datos = respuesta.json()\n",
        "  # acceder a datos especificos\n",
        "  precio_btc = datos[\"bpi\"][\"USD\"][\"rate\"]\n",
        "  print(\"El precio actual de Bitcoin en USD es: \", precio_btc)\n",
        "else:\n",
        "  print(\"Error en la solicitud:\", respuesta.status_code)"
      ],
      "metadata": {
        "colab": {
          "base_uri": "https://localhost:8080/"
        },
        "id": "DACsaEP1U9tx",
        "outputId": "1c6a66ef-f275-4d17-dff7-42adaa0ae6e0"
      },
      "execution_count": 13,
      "outputs": [
        {
          "output_type": "stream",
          "name": "stdout",
          "text": [
            "El precio actual de Bitcoin en USD es:  63,144.481\n"
          ]
        }
      ]
    },
    {
      "cell_type": "code",
      "source": [
        "# enviar datos con POST\n",
        "# import requests\n",
        "# datos a enviar\n",
        "datos = {\n",
        "    \"nombre\": \"Jose\",\n",
        "    \"edad\": 52\n",
        "}"
      ],
      "metadata": {
        "id": "SeiADljFWUWm"
      },
      "execution_count": 14,
      "outputs": []
    },
    {
      "cell_type": "code",
      "source": [
        "# hacer solicitud POST\n",
        "url = \"https://httpbin.org/post\"\n",
        "respuesta = requests.post(url, json=datos)"
      ],
      "metadata": {
        "id": "7djaAv3fXa6d"
      },
      "execution_count": 15,
      "outputs": []
    },
    {
      "cell_type": "code",
      "source": [
        "if respuesta.status_code == 200:\n",
        "  respuesta_datos = respuesta.json()\n",
        "  print(respuesta_datos)\n",
        "else:\n",
        "  print(\"Error en la solicitud:\", respuesta.status_code)"
      ],
      "metadata": {
        "colab": {
          "base_uri": "https://localhost:8080/"
        },
        "id": "4FY8iKmWXuBl",
        "outputId": "9272ee2c-3035-4ecd-802d-c12810394076"
      },
      "execution_count": 16,
      "outputs": [
        {
          "output_type": "stream",
          "name": "stdout",
          "text": [
            "{'args': {}, 'data': '{\"nombre\": \"Jose\", \"edad\": 52}', 'files': {}, 'form': {}, 'headers': {'Accept': '*/*', 'Accept-Encoding': 'gzip, deflate', 'Content-Length': '30', 'Content-Type': 'application/json', 'Host': 'httpbin.org', 'User-Agent': 'python-requests/2.32.3', 'X-Amzn-Trace-Id': 'Root=1-66cd6829-7209bd6066cc14a53ab5b15f'}, 'json': {'edad': 52, 'nombre': 'Jose'}, 'origin': '34.150.207.166', 'url': 'https://httpbin.org/post'}\n"
          ]
        }
      ]
    },
    {
      "cell_type": "code",
      "source": [
        "# trabajar con errores\n",
        "try:\n",
        "  respuesta = requests.get(\"https://api.coindesk.com/v1/bpi/currentprice.json\")\n",
        "  respuesta.raise_for_status()\n",
        "except requests.exceptions.RequestException as error:\n",
        "  print(\"Error en la solicitud:\", error)"
      ],
      "metadata": {
        "id": "CT9lrL-GX4CH"
      },
      "execution_count": 19,
      "outputs": []
    },
    {
      "cell_type": "code",
      "source": [],
      "metadata": {
        "id": "O5InL6bzZMY1"
      },
      "execution_count": null,
      "outputs": []
    }
  ]
}